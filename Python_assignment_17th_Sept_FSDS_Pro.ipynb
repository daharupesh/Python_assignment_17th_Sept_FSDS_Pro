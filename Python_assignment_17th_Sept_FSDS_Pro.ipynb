{
  "nbformat": 4,
  "nbformat_minor": 0,
  "metadata": {
    "colab": {
      "provenance": []
    },
    "kernelspec": {
      "name": "python3",
      "display_name": "Python 3"
    },
    "language_info": {
      "name": "python"
    }
  },
  "cells": [
    {
      "cell_type": "markdown",
      "source": [
        "**For loop:-**"
      ],
      "metadata": {
        "id": "ZNWyuTuwK9KY"
      }
    },
    {
      "cell_type": "markdown",
      "source": [
        "1.Write a Python program to print numbers from 1 to 10 using a for loop.\n"
      ],
      "metadata": {
        "id": "9Mxq51z_LD0Z"
      }
    },
    {
      "cell_type": "code",
      "execution_count": null,
      "metadata": {
        "colab": {
          "base_uri": "https://localhost:8080/"
        },
        "id": "0JaW4I24K2Vk",
        "outputId": "d45ba2fa-e8ae-4f76-fb07-95bb791fc66e"
      },
      "outputs": [
        {
          "output_type": "stream",
          "name": "stdout",
          "text": [
            "Enter number: 10\n",
            "1\n",
            "2\n",
            "3\n",
            "4\n",
            "5\n",
            "6\n",
            "7\n",
            "8\n",
            "9\n",
            "10\n"
          ]
        }
      ],
      "source": [
        "number= int(input(\"Enter number: \"))\n",
        "\n",
        "for i in range(1,number+1):\n",
        "  print(i)"
      ]
    },
    {
      "cell_type": "markdown",
      "source": [
        "2.Explain the difference between a for loop and a while loop in Python.\n"
      ],
      "metadata": {
        "id": "0n7zj2iyLGpi"
      }
    },
    {
      "cell_type": "code",
      "source": [
        "# for loop programs\n",
        "# Used for iterating over a sequence (such as a list, tuple, string, or range).\n",
        "# Iterates over each item in the sequence until the end is reached.\n",
        "number= int(input(\"Enter nummber: \"))\n",
        "for i in range(1,number+1):\n",
        "  print(i)"
      ],
      "metadata": {
        "colab": {
          "base_uri": "https://localhost:8080/"
        },
        "id": "CPPnbGddLKJD",
        "outputId": "170bcb6a-fb12-4c59-8274-24d6b2043318"
      },
      "execution_count": null,
      "outputs": [
        {
          "output_type": "stream",
          "name": "stdout",
          "text": [
            "Enter nummber: 20\n",
            "1\n",
            "2\n",
            "3\n",
            "4\n",
            "5\n",
            "6\n",
            "7\n",
            "8\n",
            "9\n",
            "10\n",
            "11\n",
            "12\n",
            "13\n",
            "14\n",
            "15\n",
            "16\n",
            "17\n",
            "18\n",
            "19\n",
            "20\n"
          ]
        }
      ]
    },
    {
      "cell_type": "code",
      "source": [
        "#while loop programs\n",
        "# Used when you want to repeat a block of code while a certain condition is True\n",
        "# Continues to execute the loop as long as the specified condition is True.\n",
        "number = int(input(\"Enter the number: \"))\n",
        "num=1\n",
        "while num<=number:\n",
        "  print(num)\n",
        "  num+=1"
      ],
      "metadata": {
        "colab": {
          "base_uri": "https://localhost:8080/"
        },
        "id": "j8-sb9IWN32B",
        "outputId": "39aa892e-d76f-4163-a4e3-263e51e1b096"
      },
      "execution_count": null,
      "outputs": [
        {
          "output_type": "stream",
          "name": "stdout",
          "text": [
            "Enter the number: 20\n",
            "1\n",
            "2\n",
            "3\n",
            "4\n",
            "5\n",
            "6\n",
            "7\n",
            "8\n",
            "9\n",
            "10\n",
            "11\n",
            "12\n",
            "13\n",
            "14\n",
            "15\n",
            "16\n",
            "17\n",
            "18\n",
            "19\n",
            "20\n"
          ]
        }
      ]
    },
    {
      "cell_type": "markdown",
      "source": [
        "3.Write a Python program to calculate the sum of all numbers from 1 to 100 using a for loop.\n"
      ],
      "metadata": {
        "id": "311FYlMHLKba"
      }
    },
    {
      "cell_type": "code",
      "source": [
        "number= int(input(\"Enter the number till wanted sum: \"))\n",
        "sum=0\n",
        "for i in range(1,number+1):\n",
        "  sum +=i\n",
        "print(sum)"
      ],
      "metadata": {
        "colab": {
          "base_uri": "https://localhost:8080/"
        },
        "id": "bSp2O1e3LNym",
        "outputId": "28f8ac0c-e798-4f76-ac17-df5d3503730d"
      },
      "execution_count": null,
      "outputs": [
        {
          "output_type": "stream",
          "name": "stdout",
          "text": [
            "Enter the number till wanted sum: 100\n",
            "5050\n"
          ]
        }
      ]
    },
    {
      "cell_type": "markdown",
      "source": [
        "4.How do you iterate through a list using a for loop in Python?"
      ],
      "metadata": {
        "id": "LFAANn5iX46u"
      }
    },
    {
      "cell_type": "code",
      "source": [
        "lst = [23,3,4,5,9,19]\n",
        "for i in lst:\n",
        "  print(i)"
      ],
      "metadata": {
        "id": "NZLFgWkkPPc3",
        "colab": {
          "base_uri": "https://localhost:8080/"
        },
        "outputId": "2984f9b3-5bd5-4d17-ebe0-e4a88982e1e3"
      },
      "execution_count": null,
      "outputs": [
        {
          "output_type": "stream",
          "name": "stdout",
          "text": [
            "23\n",
            "3\n",
            "4\n",
            "5\n",
            "9\n",
            "19\n"
          ]
        }
      ]
    },
    {
      "cell_type": "markdown",
      "source": [
        "5.Write a Python program to find the product of all elements in a list using a for loop."
      ],
      "metadata": {
        "id": "cZpu_-HlX9OC"
      }
    },
    {
      "cell_type": "code",
      "source": [
        "lst=[1,2,3,4,5,6,7,8,9,10]\n",
        "product = 1\n",
        "for i in lst:\n",
        "  product*=int(i)\n",
        "\n",
        "print(f\"product of '{lst}' of all the elements is : {product}\")\n",
        "\n"
      ],
      "metadata": {
        "colab": {
          "base_uri": "https://localhost:8080/"
        },
        "id": "5oqGazBgYBXl",
        "outputId": "f9d6901b-152c-4dd0-9d41-abaad5cbe20a"
      },
      "execution_count": null,
      "outputs": [
        {
          "output_type": "stream",
          "name": "stdout",
          "text": [
            "product of '[1, 2, 3, 4, 5, 6, 7, 8, 9, 10]' of all the elements is : 3628800\n"
          ]
        }
      ]
    },
    {
      "cell_type": "markdown",
      "source": [
        "6.Create a Python program that prints all even numbers from 1 to 20 using a for loop.\n",
        "\n",
        "\n"
      ],
      "metadata": {
        "id": "SZ9oqqizYB9Z"
      }
    },
    {
      "cell_type": "code",
      "source": [
        "for i in range(1,21):\n",
        "  if i%2==0:\n",
        "    print(i)"
      ],
      "metadata": {
        "colab": {
          "base_uri": "https://localhost:8080/"
        },
        "id": "pObB_GxyYEl6",
        "outputId": "e9fc76ad-1b9a-459c-f23d-91a9a0bb2b9b"
      },
      "execution_count": null,
      "outputs": [
        {
          "output_type": "stream",
          "name": "stdout",
          "text": [
            "2\n",
            "4\n",
            "6\n",
            "8\n",
            "10\n",
            "12\n",
            "14\n",
            "16\n",
            "18\n",
            "20\n"
          ]
        }
      ]
    },
    {
      "cell_type": "markdown",
      "source": [
        "7.Write a Python program that calculates the factorial of a number using a for loop."
      ],
      "metadata": {
        "id": "vLxo8rPoYFDH"
      }
    },
    {
      "cell_type": "code",
      "source": [
        "fact_number= int(input(\"Enter the user input: \"))\n",
        "fact = 1\n",
        "for i in range(1,fact_number+1):\n",
        "  fact  = fact * i\n",
        "print(f\"the factorial of all the number is {fact_number} is = {fact}\")\n"
      ],
      "metadata": {
        "colab": {
          "base_uri": "https://localhost:8080/"
        },
        "id": "yhCDO9TFYHzw",
        "outputId": "62d94573-a7b1-4d3b-94b9-7ed6cf19c0b8"
      },
      "execution_count": null,
      "outputs": [
        {
          "output_type": "stream",
          "name": "stdout",
          "text": [
            "Enter the user input: 5\n",
            "the factorial of all the number is 5 is = 120\n"
          ]
        }
      ]
    },
    {
      "cell_type": "markdown",
      "source": [
        "8.How can you iterate through the characters of a string using a for loop in Python?\n"
      ],
      "metadata": {
        "id": "6Q8Kcp1IYIP_"
      }
    },
    {
      "cell_type": "code",
      "source": [
        "input_str = input(\"Enter the string input: \")\n",
        "for i in input_str:\n",
        "  print(i)"
      ],
      "metadata": {
        "id": "WFDx7IivYKwc",
        "colab": {
          "base_uri": "https://localhost:8080/"
        },
        "outputId": "a9351560-e8c8-480c-944a-734c2cb3babd"
      },
      "execution_count": null,
      "outputs": [
        {
          "output_type": "stream",
          "name": "stdout",
          "text": [
            "Enter the string input: Rupeshdaha\n",
            "R\n",
            "u\n",
            "p\n",
            "e\n",
            "s\n",
            "h\n",
            "d\n",
            "a\n",
            "h\n",
            "a\n"
          ]
        }
      ]
    },
    {
      "cell_type": "markdown",
      "source": [
        "9.Write a Python program to find the largest number in a list using a for loop.\n"
      ],
      "metadata": {
        "id": "DoLuYxOoYLT1"
      }
    },
    {
      "cell_type": "code",
      "source": [
        "lst=[1,89,23,54,34,90,67,45,31]\n",
        "largest=0\n",
        "for i in lst:\n",
        "  if i>largest:\n",
        "    largest=i\n",
        "print(f\"the largest number from list '{lst}' is: {largest}\")"
      ],
      "metadata": {
        "id": "Axkt-EyJYNO5",
        "colab": {
          "base_uri": "https://localhost:8080/"
        },
        "outputId": "48d548cd-02ff-455d-f85e-a7d0d436b42f"
      },
      "execution_count": null,
      "outputs": [
        {
          "output_type": "stream",
          "name": "stdout",
          "text": [
            "the largest number from list '[1, 89, 23, 54, 34, 90, 67, 45, 31]' is: 90\n"
          ]
        }
      ]
    },
    {
      "cell_type": "code",
      "source": [],
      "metadata": {
        "id": "quc9t8diXsfP"
      },
      "execution_count": null,
      "outputs": []
    },
    {
      "cell_type": "markdown",
      "source": [
        "10.Create a Python program that prints the Fibonacci sequence up to a specified limit using a for loop.\n"
      ],
      "metadata": {
        "id": "0WgrqfQKYNpM"
      }
    },
    {
      "cell_type": "code",
      "source": [
        "a=0\n",
        "b=1\n",
        "print(a)\n",
        "print(b)\n",
        "for i in range(2,10):\n",
        "  fib = a+b\n",
        "  print(fib)\n",
        "  a=b\n",
        "  b=fib\n",
        "\n"
      ],
      "metadata": {
        "id": "Cs3m9nEoYQ4L",
        "colab": {
          "base_uri": "https://localhost:8080/"
        },
        "outputId": "9fbb27ff-21ee-4cf4-dcb8-6acd1f9c590b"
      },
      "execution_count": null,
      "outputs": [
        {
          "output_type": "stream",
          "name": "stdout",
          "text": [
            "0\n",
            "1\n",
            "1\n",
            "2\n",
            "3\n",
            "5\n",
            "8\n",
            "13\n",
            "21\n",
            "34\n"
          ]
        }
      ]
    },
    {
      "cell_type": "markdown",
      "source": [
        "11.Write a Python program to count the number of vowels in a given string using a for loop."
      ],
      "metadata": {
        "id": "0AEfhZm8YRok"
      }
    },
    {
      "cell_type": "code",
      "source": [
        "count_vowel = 0\n",
        "str_input=input(\"Enter the input: \")\n",
        "for i in str_input:\n",
        "  if i in \"aeiouAEIOU\":\n",
        "    count_vowel+=1\n",
        "    print(i)\n",
        "\n",
        "print(f\"The total number of vowel in string '{str_input}' is {count_vowel}\")"
      ],
      "metadata": {
        "id": "yrO3Kqk7YUR7",
        "colab": {
          "base_uri": "https://localhost:8080/"
        },
        "outputId": "762fa048-0d36-41e8-d9be-f8358aac646e"
      },
      "execution_count": null,
      "outputs": [
        {
          "output_type": "stream",
          "name": "stdout",
          "text": [
            "Enter the input: RupeshKumarDaha\n",
            "u\n",
            "e\n",
            "u\n",
            "a\n",
            "a\n",
            "a\n",
            "The total number of vowel in string 'RupeshKumarDaha' is 6\n"
          ]
        }
      ]
    },
    {
      "cell_type": "markdown",
      "source": [
        "12.Create a Python program that generates a multiplication table for a given number using a for loop."
      ],
      "metadata": {
        "id": "gx-8T0mUYUrY"
      }
    },
    {
      "cell_type": "code",
      "source": [
        "number=int(input(\"Enter table number: \"))\n",
        "i=1\n",
        "while i<=number:\n",
        "  input_number = int(input(\"Enter the given number: \"))\n",
        "  for J in range(1,11):\n",
        "    print(f\"{input_number} X {J}={input_number*J}\")\n",
        "  i+=1"
      ],
      "metadata": {
        "id": "ytg_10a7YXSB",
        "colab": {
          "base_uri": "https://localhost:8080/"
        },
        "outputId": "c4260b61-7559-45be-983d-17051915a85c"
      },
      "execution_count": null,
      "outputs": [
        {
          "output_type": "stream",
          "name": "stdout",
          "text": [
            "Enter table number: 5\n",
            "Enter the given number: 2\n",
            "2 X 1=2\n",
            "2 X 2=4\n",
            "2 X 3=6\n",
            "2 X 4=8\n",
            "2 X 5=10\n",
            "2 X 6=12\n",
            "2 X 7=14\n",
            "2 X 8=16\n",
            "2 X 9=18\n",
            "2 X 10=20\n",
            "Enter the given number: 3\n",
            "3 X 1=3\n",
            "3 X 2=6\n",
            "3 X 3=9\n",
            "3 X 4=12\n",
            "3 X 5=15\n",
            "3 X 6=18\n",
            "3 X 7=21\n",
            "3 X 8=24\n",
            "3 X 9=27\n",
            "3 X 10=30\n",
            "Enter the given number: 5\n",
            "5 X 1=5\n",
            "5 X 2=10\n",
            "5 X 3=15\n",
            "5 X 4=20\n",
            "5 X 5=25\n",
            "5 X 6=30\n",
            "5 X 7=35\n",
            "5 X 8=40\n",
            "5 X 9=45\n",
            "5 X 10=50\n",
            "Enter the given number: 7\n",
            "7 X 1=7\n",
            "7 X 2=14\n",
            "7 X 3=21\n",
            "7 X 4=28\n",
            "7 X 5=35\n",
            "7 X 6=42\n",
            "7 X 7=49\n",
            "7 X 8=56\n",
            "7 X 9=63\n",
            "7 X 10=70\n",
            "Enter the given number: 9\n",
            "9 X 1=9\n",
            "9 X 2=18\n",
            "9 X 3=27\n",
            "9 X 4=36\n",
            "9 X 5=45\n",
            "9 X 6=54\n",
            "9 X 7=63\n",
            "9 X 8=72\n",
            "9 X 9=81\n",
            "9 X 10=90\n"
          ]
        }
      ]
    },
    {
      "cell_type": "markdown",
      "source": [
        "13.Write a Python program to reverse a list using a for loop."
      ],
      "metadata": {
        "id": "no2cAmuLYXzh"
      }
    },
    {
      "cell_type": "code",
      "source": [
        "lst1=[34,45,67,89,23,78,23]\n",
        "for i in range(len(lst1)-1,-1,-1):\n",
        "  print(lst1[i])"
      ],
      "metadata": {
        "id": "4i4h-nPbYaXk",
        "colab": {
          "base_uri": "https://localhost:8080/"
        },
        "outputId": "c87a9394-d0b8-4679-9f29-d057c3042381"
      },
      "execution_count": null,
      "outputs": [
        {
          "output_type": "stream",
          "name": "stdout",
          "text": [
            "23\n",
            "78\n",
            "23\n",
            "89\n",
            "67\n",
            "45\n",
            "34\n"
          ]
        }
      ]
    },
    {
      "cell_type": "markdown",
      "source": [
        "14.Write a Python program to find the common elements between two lists using a for loop."
      ],
      "metadata": {
        "id": "XwEMmbYNYarA"
      }
    },
    {
      "cell_type": "code",
      "source": [
        "lst1=[67,4,5,2,7,8,9,34]\n",
        "lst2=[45,5,4,7,9,7,34,60]\n",
        "common_ele=[]\n",
        "common=set()\n",
        "for i in lst1:\n",
        "  for j in lst2:\n",
        "    if i==j:\n",
        "      common.add(i) # by set\n",
        "      common_ele.append(i) # by tuple\n",
        "print(common)\n",
        "print(set(common_ele))"
      ],
      "metadata": {
        "id": "aSVyDd_7YezF",
        "colab": {
          "base_uri": "https://localhost:8080/"
        },
        "outputId": "92eabf89-0822-4078-e679-d72f453a5984"
      },
      "execution_count": null,
      "outputs": [
        {
          "output_type": "stream",
          "name": "stdout",
          "text": [
            "{34, 4, 5, 7, 9}\n",
            "{34, 4, 5, 7, 9}\n"
          ]
        }
      ]
    },
    {
      "cell_type": "markdown",
      "source": [
        "\n",
        "15.Explain how to use a for loop to iterate through the keys and values of a dictionary in Python"
      ],
      "metadata": {
        "id": "gNPAKcNIYgiM"
      }
    },
    {
      "cell_type": "code",
      "source": [
        "dict_user = {\n",
        "    \"name\":\"rupesh\",\n",
        "    \"class\":\"CEB\",\n",
        "    \"Roll\":34,\n",
        "    \"address\":\"Rajkot\"\n",
        "\n",
        "}\n",
        "\n",
        "for i,j in dict_user.items():\n",
        "  print(i,j)\n",
        "print(\"Keys.....\")\n",
        "for i in dict_user.keys():\n",
        "  print(i)\n",
        "print(\"values.....\")\n",
        "for j in dict_user.values():\n",
        "  print(j)"
      ],
      "metadata": {
        "id": "TLKmNUNfYiTz",
        "colab": {
          "base_uri": "https://localhost:8080/"
        },
        "outputId": "727389ad-5c1d-424b-aaeb-a50a565863c3"
      },
      "execution_count": null,
      "outputs": [
        {
          "output_type": "stream",
          "name": "stdout",
          "text": [
            "name rupesh\n",
            "class CEB\n",
            "Roll 34\n",
            "address Rajkot\n",
            "Keys.....\n",
            "name\n",
            "class\n",
            "Roll\n",
            "address\n",
            "values.....\n",
            "rupesh\n",
            "CEB\n",
            "34\n",
            "Rajkot\n"
          ]
        }
      ]
    },
    {
      "cell_type": "markdown",
      "source": [
        "16.Write a Python program to find the GCD (Greatest Common Divisor) of two numbers using a for loop.\n"
      ],
      "metadata": {
        "id": "aJdh2_5WYit8"
      }
    },
    {
      "cell_type": "code",
      "source": [
        "num1=int(input(\"Enter the number1:\"))\n",
        "num2=int(input(\"Enter the number2:\"))\n",
        "gdc=0\n",
        "if num1>num2:\n",
        " for i in range(1,num2+1):\n",
        "    update=int(num2/i)\n",
        "    if num1%update==0:\n",
        "      gdc=update\n",
        "      break\n",
        "else:\n",
        " for i in range(1,num1+1):\n",
        "  update=int(num1/i)\n",
        "  if num2%update==0:\n",
        "      gdc=update\n",
        "      break\n",
        "print(\"the gdc of the two numbers is: \", gdc)\n",
        "\n",
        "# other logic\n",
        "gdc_=0\n",
        "for i in range(1,min(num1,num2)+1):\n",
        "  if num1%i==0 and num2%i==0:\n",
        "     gdc_=i\n",
        "print(\"the gdc of the two numbers is: \", gdc_)\n"
      ],
      "metadata": {
        "id": "81Svg5bHYlA7",
        "colab": {
          "base_uri": "https://localhost:8080/"
        },
        "outputId": "b08a6ff0-231d-42e2-feb1-9c856165eb09"
      },
      "execution_count": null,
      "outputs": [
        {
          "output_type": "stream",
          "name": "stdout",
          "text": [
            "Enter the number1:20\n",
            "Enter the number2:12\n",
            "the gdc of the two numbers is:  4\n",
            "the gdc of the two numbers is:  4\n"
          ]
        }
      ]
    },
    {
      "cell_type": "markdown",
      "source": [
        "17.Create a Python program that checks if a string is a palindrome using a for loop.\n"
      ],
      "metadata": {
        "id": "xhYCRUxkYlpI"
      }
    },
    {
      "cell_type": "code",
      "source": [
        "def checkpalandrome(str_input):\n",
        "  if str_input==str_input[::-1]:\n",
        "      print(\"The string is a palindrome.\")\n",
        "  else:\n",
        "    print(\"The string is not palandrome.\")\n",
        "str_input=input(\"Enter the string :\")\n",
        "checkpalandrome(str_input)"
      ],
      "metadata": {
        "id": "KcUpkYU1YprS",
        "colab": {
          "base_uri": "https://localhost:8080/"
        },
        "outputId": "37225b95-7980-4ff9-acd4-013b704bb6da"
      },
      "execution_count": null,
      "outputs": [
        {
          "output_type": "stream",
          "name": "stdout",
          "text": [
            "Enter the string :abba\n",
            "The string is a palindrome.\n"
          ]
        }
      ]
    },
    {
      "cell_type": "markdown",
      "source": [
        "18.Write a Python program to remove duplicates from a list using a for loop.\n"
      ],
      "metadata": {
        "id": "j5XseKF_YqzN"
      }
    },
    {
      "cell_type": "code",
      "source": [
        "def remove_duplicate(lst):\n",
        "\n",
        "  orignal_list=[]\n",
        "  for i in lst:\n",
        "    count_element=0\n",
        "    for j in lst:\n",
        "      if i==j:\n",
        "        count_element+=1\n",
        "        if count_element==1 and (i not in orignal_list):\n",
        "          orignal_list.append(i)\n",
        "    count_element=0\n",
        "  print(orignal_list)\n",
        "\n",
        "remove_duplicate([2,3,5,6,4,4,4,5,5,5,6,6,6,7,7,7,8,8,8,3,7,8,3,3,3,3,3,3])\n",
        "\n",
        "\n"
      ],
      "metadata": {
        "colab": {
          "base_uri": "https://localhost:8080/"
        },
        "id": "xRIcAqW25blY",
        "outputId": "5b35b9ad-7f1a-4747-c50d-2c8f15fd66bf"
      },
      "execution_count": null,
      "outputs": [
        {
          "output_type": "stream",
          "name": "stdout",
          "text": [
            "[2, 3, 5, 6, 4, 7, 8]\n"
          ]
        }
      ]
    },
    {
      "cell_type": "code",
      "source": [
        "def remove_duplicate(lst):\n",
        "  final_list=[]\n",
        "  for i in lst:\n",
        "    if i not in final_list:\n",
        "      final_list.append(i)\n",
        "  print(final_list)\n",
        "remove_duplicate([2,3,5,5,6,7,8,9,10,11,11])\n",
        "\n",
        "\n"
      ],
      "metadata": {
        "colab": {
          "base_uri": "https://localhost:8080/"
        },
        "id": "bhPyAsRQME65",
        "outputId": "c5e6a032-5195-4c0a-aae6-00f81c7bfde6"
      },
      "execution_count": null,
      "outputs": [
        {
          "output_type": "stream",
          "name": "stdout",
          "text": [
            "[2, 3, 5, 6, 7, 8, 9, 10, 11]\n"
          ]
        }
      ]
    },
    {
      "cell_type": "markdown",
      "source": [
        "19.Create a Python program that counts the number of words in a sentence using a for loop.\n"
      ],
      "metadata": {
        "id": "FVedJNsWYuYB"
      }
    },
    {
      "cell_type": "code",
      "source": [
        "string_input=\"this is my name rupesh kumar daha\"\n",
        "print(string_input.split())"
      ],
      "metadata": {
        "colab": {
          "base_uri": "https://localhost:8080/"
        },
        "id": "fvfc4C_pS4IT",
        "outputId": "3c2b0259-c03c-4e1f-94b7-5c9e9a465a22"
      },
      "execution_count": null,
      "outputs": [
        {
          "output_type": "stream",
          "name": "stdout",
          "text": [
            "['this', 'is', 'my', 'name', 'rupesh', 'kumar', 'daha']\n"
          ]
        }
      ]
    },
    {
      "cell_type": "code",
      "source": [],
      "metadata": {
        "id": "QAagmfMDS3o1"
      },
      "execution_count": null,
      "outputs": []
    },
    {
      "cell_type": "code",
      "source": [
        "def count_word(sentence):\n",
        "  count_word=0\n",
        "  for i in sentence.split():\n",
        "    count_word+=1\n",
        "  print(\"The total number of words is equal to : \", count_word)\n",
        "count_word(\"this is my name rupesh kumar daha\")\n",
        "\n"
      ],
      "metadata": {
        "colab": {
          "base_uri": "https://localhost:8080/"
        },
        "id": "tWwJLLtgSX8h",
        "outputId": "cc59c236-ce8d-4393-b2cd-690f557c46ad"
      },
      "execution_count": null,
      "outputs": [
        {
          "output_type": "stream",
          "name": "stdout",
          "text": [
            "The total number of words is equal to :  7\n"
          ]
        }
      ]
    },
    {
      "cell_type": "markdown",
      "source": [
        "20.Write a Python program to find the sum of all odd numbers from 1 to 50 using a for loop.\n"
      ],
      "metadata": {
        "id": "URYnowC5ZP-s"
      }
    },
    {
      "cell_type": "code",
      "source": [
        "def sum_odd():\n",
        "  odd_sum=0\n",
        "  for i in range(1,51):\n",
        "    if i%2==1:\n",
        "      odd_sum+=i\n",
        "  print(f\"The sum of odd number is = {odd_sum}\")\n",
        "sum_odd()\n"
      ],
      "metadata": {
        "id": "4wStiB-NZTqG",
        "colab": {
          "base_uri": "https://localhost:8080/"
        },
        "outputId": "4dde9f25-2f41-4685-caa5-129d14618eb9"
      },
      "execution_count": null,
      "outputs": [
        {
          "output_type": "stream",
          "name": "stdout",
          "text": [
            "The sum of odd number is = 625\n"
          ]
        }
      ]
    },
    {
      "cell_type": "markdown",
      "source": [
        "21.Write a Python program that checks if a given year is a leap year using a for loop."
      ],
      "metadata": {
        "id": "1PagNNF9ZURe"
      }
    },
    {
      "cell_type": "code",
      "source": [
        "# A year is a leap year if it is divisible by 4, except for years that are divisible by 100. However, years divisible by 400 are leap years.\n",
        "def find_leap_year(year):\n",
        "  if (year%4==0 and year%100!=0) or (year%400==0):\n",
        "    print(f\"the {year } is leap year.\")\n",
        "  else:\n",
        "    print(f\"the {year} is not leap year.\")\n",
        "\n",
        "find_leap_year(2024)"
      ],
      "metadata": {
        "colab": {
          "base_uri": "https://localhost:8080/"
        },
        "id": "zZu-cOeXedHY",
        "outputId": "14b6af34-f71f-4368-ff5a-7dbce16ea4ba"
      },
      "execution_count": null,
      "outputs": [
        {
          "output_type": "stream",
          "name": "stdout",
          "text": [
            "the 2024 is leap year.\n"
          ]
        }
      ]
    },
    {
      "cell_type": "markdown",
      "source": [
        "22.Create a Python program that calculates the square root of a number using a for loop.\n"
      ],
      "metadata": {
        "id": "iRFreswNZXDn"
      }
    },
    {
      "cell_type": "code",
      "source": [
        "def square_root(number):\n",
        "    guess = number / 2\n",
        "    for _ in range(20):\n",
        "        guess = (guess + number / guess) / 2   # main formula = (guess+number/guess)/2\n",
        "        print(guess)\n",
        "    return guess\n",
        "\n",
        "number_to_find_square_root = int(input(\"Enter a number to find its square root: \"))\n",
        "result = square_root(number_to_find_square_root)\n",
        "print(f\"The square root of {number_to_find_square_root} is approximately {result}\")\n"
      ],
      "metadata": {
        "colab": {
          "base_uri": "https://localhost:8080/"
        },
        "id": "N6UgeYbQheb3",
        "outputId": "b6876a6f-45ab-4185-f71a-f2daa5433778"
      },
      "execution_count": null,
      "outputs": [
        {
          "output_type": "stream",
          "name": "stdout",
          "text": [
            "Enter a number to find its square root: 16\n",
            "5.0\n",
            "4.1\n",
            "4.001219512195122\n",
            "4.0000001858445895\n",
            "4.000000000000004\n",
            "4.0\n",
            "4.0\n",
            "4.0\n",
            "4.0\n",
            "4.0\n",
            "4.0\n",
            "4.0\n",
            "4.0\n",
            "4.0\n",
            "4.0\n",
            "4.0\n",
            "4.0\n",
            "4.0\n",
            "4.0\n",
            "4.0\n",
            "The square root of 16 is approximately 4.0\n"
          ]
        }
      ]
    },
    {
      "cell_type": "markdown",
      "source": [
        "\n",
        "23.Write a Python program to find the LCM (Least Common Multiple) of two numbers using a for loop."
      ],
      "metadata": {
        "id": "XQUh58i0ZZj2"
      }
    },
    {
      "cell_type": "code",
      "source": [
        "num1=36\n",
        "num2=12\n",
        "\n",
        "lcm=0\n",
        "for i in range(1,min(num1,num2)+1):\n",
        "  if num1%i==0 and num2%i==0:\n",
        "     lcm=i\n",
        "print(\"the gdc of the two numbers is: \", lcm*(num1/lcm)*(num2/lcm))"
      ],
      "metadata": {
        "id": "aNpKzV9kOKgB",
        "colab": {
          "base_uri": "https://localhost:8080/"
        },
        "outputId": "f4b1887a-af48-4e38-e5f5-c22f692dd843"
      },
      "execution_count": null,
      "outputs": [
        {
          "output_type": "stream",
          "name": "stdout",
          "text": [
            "the gdc of the two numbers is:  36.0\n"
          ]
        }
      ]
    },
    {
      "cell_type": "markdown",
      "source": [
        "20.Write a Python program to remove duplicates from a list using a for loop.\n",
        "\n"
      ],
      "metadata": {
        "id": "YCU7mbcKYx_s"
      }
    },
    {
      "cell_type": "code",
      "source": [
        "def remove_duplicate(lst):\n",
        "  original_list =[]\n",
        "  for i in lst:\n",
        "    if i not in original_list:\n",
        "      original_list.append(i)\n",
        "  print(original_list)\n",
        "remove_duplicate([12,3,34,45,34,2,3,5,6,9,10])\n",
        "\n"
      ],
      "metadata": {
        "id": "upQm5PjbOLBZ",
        "colab": {
          "base_uri": "https://localhost:8080/"
        },
        "outputId": "a832b8ee-2800-4afe-f924-9024dae07247"
      },
      "execution_count": null,
      "outputs": [
        {
          "output_type": "stream",
          "name": "stdout",
          "text": [
            "[12, 3, 34, 45, 2, 5, 6, 9, 10]\n"
          ]
        }
      ]
    },
    {
      "cell_type": "markdown",
      "source": [],
      "metadata": {
        "id": "97EVdOqQOtNR"
      }
    },
    {
      "cell_type": "code",
      "source": [],
      "metadata": {
        "id": "VdKyQkDxOHuY"
      },
      "execution_count": null,
      "outputs": []
    },
    {
      "cell_type": "markdown",
      "source": [
        "**IF ELSE**"
      ],
      "metadata": {
        "id": "94fNibSWOql7"
      }
    },
    {
      "cell_type": "markdown",
      "source": [
        "1.\tWrite a Python program to check if a number is positive, negative, or zero using an if-else statement"
      ],
      "metadata": {
        "id": "m8fY1Y81OuPn"
      }
    },
    {
      "cell_type": "code",
      "source": [
        "def check_number(number):\n",
        "  if number<0:\n",
        "    print(f\"th\")"
      ],
      "metadata": {
        "id": "aWWvwnE-Otx_"
      },
      "execution_count": null,
      "outputs": []
    },
    {
      "cell_type": "markdown",
      "source": [
        "2.\tCreate a Python program that checks if a given number is even or odd using an if-else statement."
      ],
      "metadata": {
        "id": "iNRXndbaOyg6"
      }
    },
    {
      "cell_type": "code",
      "source": [
        "def odd_even(number):\n",
        "  if number%2==0:\n",
        "    print(f\"the number {number} is even.\")\n",
        "  else:\n",
        "    print(f\"the number {number} is odd.\")\n",
        "odd_even(12)"
      ],
      "metadata": {
        "id": "zNg4AMSjO1oV",
        "colab": {
          "base_uri": "https://localhost:8080/"
        },
        "outputId": "dd657d37-bf8d-4c3d-e7e7-803ae03a70e6"
      },
      "execution_count": null,
      "outputs": [
        {
          "output_type": "stream",
          "name": "stdout",
          "text": [
            "the number 12 is even.\n"
          ]
        }
      ]
    },
    {
      "cell_type": "markdown",
      "source": [
        "3.\tHow can you use nested if-else statements in Python, and provide an example?"
      ],
      "metadata": {
        "id": "6erpShoeO2Sp"
      }
    },
    {
      "cell_type": "code",
      "source": [
        "def nested_statements(year):\n",
        "  if year%4==0:\n",
        "    if year%100 !=0:\n",
        "      print(\"the year is leap year\")\n",
        "    else:\n",
        "      print(\"the year is not leap year\")\n",
        "  elif year%400:\n",
        "    print(f\"the year is leap year\")\n",
        "  else:\n",
        "    print(\"the year is not leap year\")\n",
        "nested_statements(2024)"
      ],
      "metadata": {
        "colab": {
          "base_uri": "https://localhost:8080/"
        },
        "id": "76Jun3tF5uqj",
        "outputId": "9d83e81a-a18e-4bfd-e15b-6fd7b7ff9c5a"
      },
      "execution_count": null,
      "outputs": [
        {
          "output_type": "stream",
          "name": "stdout",
          "text": [
            "the year is leap year\n"
          ]
        }
      ]
    },
    {
      "cell_type": "markdown",
      "source": [
        "4.\tWrite a Python program to determine the largest of three numbers using if-else."
      ],
      "metadata": {
        "id": "fLEi5AbzO4gh"
      }
    },
    {
      "cell_type": "code",
      "source": [
        "def largest_number(num1,num2, num3):\n",
        "  if num1>num2:\n",
        "    if num1>num3:\n",
        "      print(f\"The largest number is {num1} from these numbers.\")\n",
        "    else:\n",
        "      print(f\"The largest number is {num3} from these numbers.\")\n",
        "  else:\n",
        "    if num2>num3:\n",
        "      print(f\"the largest number is {num2} from these numbers.\")\n",
        "    else:\n",
        "      print(f\"the largest number is {num3} from these numbers.\")\n",
        "largest_number(23,34,14)"
      ],
      "metadata": {
        "colab": {
          "base_uri": "https://localhost:8080/"
        },
        "id": "QOZpuMbE6fpx",
        "outputId": "04f3bb51-51f0-4419-82bf-a3edc30902a8"
      },
      "execution_count": null,
      "outputs": [
        {
          "output_type": "stream",
          "name": "stdout",
          "text": [
            "the largest number is 34 from these numbers.\n"
          ]
        }
      ]
    },
    {
      "cell_type": "markdown",
      "source": [
        "5.\tWrite a Python program that calculates the absolute value of a number using if-else."
      ],
      "metadata": {
        "id": "0CnhotldO99S"
      }
    },
    {
      "cell_type": "code",
      "source": [
        "def absolute(num):\n",
        "  if num<0:\n",
        "    print((-1)*(num))\n",
        "  else:\n",
        "    print(num)\n",
        "absolute(-10)"
      ],
      "metadata": {
        "colab": {
          "base_uri": "https://localhost:8080/"
        },
        "id": "AyvmdXRr8pA-",
        "outputId": "aab9514b-3bd1-438c-d74a-e9bc839f52e0"
      },
      "execution_count": null,
      "outputs": [
        {
          "output_type": "stream",
          "name": "stdout",
          "text": [
            "10\n"
          ]
        }
      ]
    },
    {
      "cell_type": "markdown",
      "source": [
        "6.\tCreate a Python program that checks if a given character is a vowel or consonant using if-else."
      ],
      "metadata": {
        "id": "JvqfZMs3PCKK"
      }
    },
    {
      "cell_type": "code",
      "source": [
        "def vowel_consonant(alphabet):\n",
        "    if alphabet in \"aeiouAEIOU\":\n",
        "      print(f\"the given character '{alphabet}' is vowel.\")\n",
        "    else:\n",
        "      print(f\"the given character '{alphabet}' is consonant.\")\n",
        "vowel_consonant(\"a\")"
      ],
      "metadata": {
        "colab": {
          "base_uri": "https://localhost:8080/"
        },
        "id": "DKhLOfT5-IMv",
        "outputId": "50fa333a-b70c-4891-b870-e9741539f761"
      },
      "execution_count": null,
      "outputs": [
        {
          "output_type": "stream",
          "name": "stdout",
          "text": [
            "the given character 'a' is vowel.\n"
          ]
        }
      ]
    },
    {
      "cell_type": "markdown",
      "source": [
        "7.\tWrite a Python program to determine if a user is eligible to vote based on their age using if-else"
      ],
      "metadata": {
        "id": "pTuaawcrPDCC"
      }
    },
    {
      "cell_type": "code",
      "source": [
        "def eligible_for_vote(age):\n",
        "  if age>18:\n",
        "    print(\"Eligible to vote.\")\n",
        "  else:\n",
        "    print(\"Not eligible to vote.\")\n",
        "eligible_for_vote(12)"
      ],
      "metadata": {
        "colab": {
          "base_uri": "https://localhost:8080/"
        },
        "id": "xFCKsrb6e7lC",
        "outputId": "9f07f2f0-e615-41e8-f7aa-b745080fa43c"
      },
      "execution_count": null,
      "outputs": [
        {
          "output_type": "stream",
          "name": "stdout",
          "text": [
            "Not eligible to vote.\n"
          ]
        }
      ]
    },
    {
      "cell_type": "markdown",
      "source": [
        "8.\tCreate a Python program that calculates the discount amount based on the purchase amount using if-else"
      ],
      "metadata": {
        "id": "wtXF1aY8PJG9"
      }
    },
    {
      "cell_type": "code",
      "source": [
        "def calculate_discount(purchase_amount):\n",
        "    if purchase_amount >= 1000:\n",
        "        discount_rate = 0.1\n",
        "    elif purchase_amount >= 500:\n",
        "        discount_rate = 0.05\n",
        "    else:\n",
        "        discount_rate = 0\n",
        "\n",
        "    discount_amount = purchase_amount * discount_rate\n",
        "    return discount_amount\n",
        "\n",
        "purchase_amount = float(input(\"Enter the purchase amount: \"))\n",
        "discount_amount = calculate_discount(purchase_amount)\n",
        "print(f\"Discount Amount: {discount_amount:.2f}\")\n"
      ],
      "metadata": {
        "id": "jlQLv0qPfewk",
        "colab": {
          "base_uri": "https://localhost:8080/"
        },
        "outputId": "3ea0cc23-6066-47e8-d5f0-2349aef5bf58"
      },
      "execution_count": null,
      "outputs": [
        {
          "output_type": "stream",
          "name": "stdout",
          "text": [
            "Enter the purchase amount: 1500\n",
            "Discount Amount: 150.00\n"
          ]
        }
      ]
    },
    {
      "cell_type": "markdown",
      "source": [
        "9.\tWrite a Python program to check if a number is within a specified range using if-else."
      ],
      "metadata": {
        "id": "YKL2u5CaPLvm"
      }
    },
    {
      "cell_type": "code",
      "source": [
        "def check_within_range(number, lower_limit, upper_limit):\n",
        "    if lower_limit <= number <= upper_limit:\n",
        "        return True\n",
        "    else:\n",
        "        return False\n",
        "\n",
        "number_to_check = float(input(\"Enter a number: \"))\n",
        "lower_limit = float(input(\"Enter the lower limit of the range: \"))\n",
        "upper_limit = float(input(\"Enter the upper limit of the range: \"))\n",
        "\n",
        "is_within_range = check_within_range(number_to_check, lower_limit, upper_limit)\n",
        "\n",
        "if is_within_range:\n",
        "    print(f\"{number_to_check} is within the specified range.\")\n",
        "else:\n",
        "    print(f\"{number_to_check} is outside the specified range.\")\n"
      ],
      "metadata": {
        "colab": {
          "base_uri": "https://localhost:8080/"
        },
        "id": "6cKaMU2INqK6",
        "outputId": "f87da78b-269a-4021-9cc5-9277f6c027da"
      },
      "execution_count": null,
      "outputs": [
        {
          "output_type": "stream",
          "name": "stdout",
          "text": [
            "Enter a number: 45\n",
            "Enter the lower limit of the range: 34\n",
            "Enter the upper limit of the range: 45\n",
            "45.0 is within the specified range.\n"
          ]
        }
      ]
    },
    {
      "cell_type": "markdown",
      "source": [
        "10.\tCreate a Python program that determines the grade of a student based on their score using if-else."
      ],
      "metadata": {
        "id": "MwhZP0dIPOK1"
      }
    },
    {
      "cell_type": "code",
      "source": [
        "def determine_grade(score):\n",
        "    if score >= 90:\n",
        "        return 'A'\n",
        "    elif 80 <= score < 90:\n",
        "        return 'B'\n",
        "    elif 70 <= score < 80:\n",
        "        return 'C'\n",
        "    elif 60 <= score < 70:\n",
        "        return 'D'\n",
        "    else:\n",
        "        return 'F'\n",
        "\n",
        "score = float(input(\"Enter the student's score: \"))\n",
        "grade = determine_grade(score)\n",
        "print(f\"The student's grade is: {grade}\")\n"
      ],
      "metadata": {
        "colab": {
          "base_uri": "https://localhost:8080/"
        },
        "id": "ykLBuq3JOSfR",
        "outputId": "1e257d0c-5eba-4874-a365-2c56cc86526f"
      },
      "execution_count": null,
      "outputs": [
        {
          "output_type": "stream",
          "name": "stdout",
          "text": [
            "Enter the student's score: 78\n",
            "The student's grade is: C\n"
          ]
        }
      ]
    },
    {
      "cell_type": "markdown",
      "source": [
        "11.\tWrite a Python program to check if a string is empty or not using if-else."
      ],
      "metadata": {
        "id": "GM0Eb1kaPSQU"
      }
    },
    {
      "cell_type": "code",
      "source": [
        "def is_string_empty(input_string):\n",
        "    if input_string:\n",
        "        print(\"The string is not empty.\")\n",
        "    else:\n",
        "        print(\"The string is empty.\")\n",
        "\n",
        "user_input = input(\"Enter a string: \")\n",
        "is_string_empty(user_input)\n"
      ],
      "metadata": {
        "colab": {
          "base_uri": "https://localhost:8080/"
        },
        "id": "OhWzTFvsOuzd",
        "outputId": "9c72ca52-7e76-46d2-b4c4-57efd05cf863"
      },
      "execution_count": null,
      "outputs": [
        {
          "output_type": "stream",
          "name": "stdout",
          "text": [
            "Enter a string: \n",
            "The string is empty.\n"
          ]
        }
      ]
    },
    {
      "cell_type": "markdown",
      "source": [
        "12.\tCreate a Python program that identifies the type of a triangle (e.g., equilateral, isosceles, or scalene) based on input values using if-else."
      ],
      "metadata": {
        "id": "TGdvk_joPTI6"
      }
    },
    {
      "cell_type": "code",
      "source": [
        "def identify_triangle_type(side1, side2, side3):\n",
        "    if side1 == side2 == side3:\n",
        "        return \"Equilateral\"\n",
        "    elif side1 == side2 or side1 == side3 or side2 == side3:\n",
        "        return \"Isosceles\"\n",
        "    else:\n",
        "        return \"Scalene\"\n",
        "\n",
        "try:\n",
        "    side1 = float(input(\"Enter the length of the first side: \"))\n",
        "    side2 = float(input(\"Enter the length of the second side: \"))\n",
        "    side3 = float(input(\"Enter the length of the third side: \"))\n",
        "\n",
        "    if side1 > 0 and side2 > 0 and side3 > 0:\n",
        "        triangle_type = identify_triangle_type(side1, side2, side3)\n",
        "        print(f\"The triangle is {triangle_type}.\")\n",
        "    else:\n",
        "        print(\"Invalid side lengths. Please enter positive values for the side lengths.\")\n",
        "except ValueError:\n",
        "    print(\"Invalid input. Please enter numerical values for the side lengths.\")\n"
      ],
      "metadata": {
        "colab": {
          "base_uri": "https://localhost:8080/"
        },
        "id": "b4GUm_SyPkIL",
        "outputId": "67823906-740d-4934-bce6-7be8fe42ef71"
      },
      "execution_count": null,
      "outputs": [
        {
          "output_type": "stream",
          "name": "stdout",
          "text": [
            "Enter the length of the first side: 12 \n",
            "Enter the length of the second side: 34\n",
            "Enter the length of the third side: 56\n",
            "The triangle is Scalene.\n"
          ]
        }
      ]
    },
    {
      "cell_type": "markdown",
      "source": [
        "13.\tWrite a Python program to determine the day of the week based on a user-provided number using if-else."
      ],
      "metadata": {
        "id": "ENAyY0ZkPVbJ"
      }
    },
    {
      "cell_type": "code",
      "source": [
        "def get_day_of_week(day_number):\n",
        "    if day_number == 1:\n",
        "        return \"Monday\"\n",
        "    elif day_number == 2:\n",
        "        return \"Tuesday\"\n",
        "    elif day_number == 3:\n",
        "        return \"Wednesday\"\n",
        "    elif day_number == 4:\n",
        "        return \"Thursday\"\n",
        "    elif day_number == 5:\n",
        "        return \"Friday\"\n",
        "    elif day_number == 6:\n",
        "        return \"Saturday\"\n",
        "    elif day_number == 7:\n",
        "        return \"Sunday\"\n",
        "    else:\n",
        "        return \"Invalid input. Please enter a number between 1 and 7.\"\n",
        "\n",
        "day_number = int(input(\"Enter a number (1-7) to represent the day of the week: \"))\n",
        "day_name = get_day_of_week(day_number)\n",
        "print(f\"The day of the week is: {day_name}\")\n"
      ],
      "metadata": {
        "colab": {
          "base_uri": "https://localhost:8080/"
        },
        "id": "ccaaSvWzQcY1",
        "outputId": "165bec47-d3fb-4c26-8934-d843d98339c7"
      },
      "execution_count": null,
      "outputs": [
        {
          "output_type": "stream",
          "name": "stdout",
          "text": [
            "Enter a number (1-7) to represent the day of the week: 4\n",
            "The day of the week is: Thursday\n"
          ]
        }
      ]
    },
    {
      "cell_type": "markdown",
      "source": [
        "15.\tHow do you use the \"assert\" statement in Python to add debugging checks within if-else blocks?"
      ],
      "metadata": {
        "id": "EQjQVL_VPYhn"
      }
    },
    {
      "cell_type": "code",
      "source": [
        "def divide(a, b):\n",
        "  # Use assert to check if the denominator is not zero\n",
        "    assert b != 0, \"Division by zero is not allowed...need help\"\n",
        "\n",
        "    result = a / b\n",
        "    return result\n",
        "\n",
        "numerator = float(input(\"Enter the numerator: \"))\n",
        "denominator = float(input(\"Enter the denominator: \"))\n",
        "\n",
        "# if denominator == 0:\n",
        "#     print(\"Error: Denominator cannot be zero.\")\n",
        "# else:\n",
        "#     quotient = divide(numerator, denominator)\n",
        "#     print(f\"The result of the division is: {quotient}\")\n",
        "print(divide(numerator,denominator))\n"
      ],
      "metadata": {
        "colab": {
          "base_uri": "https://localhost:8080/",
          "height": 366
        },
        "id": "PWzKlsLyQsWF",
        "outputId": "369fe1a5-2454-40e2-9c9c-f9ca05e253eb"
      },
      "execution_count": null,
      "outputs": [
        {
          "name": "stdout",
          "output_type": "stream",
          "text": [
            "Enter the numerator: 12\n",
            "Enter the denominator: 0\n"
          ]
        },
        {
          "output_type": "error",
          "ename": "AssertionError",
          "evalue": "ignored",
          "traceback": [
            "\u001b[0;31m---------------------------------------------------------------------------\u001b[0m",
            "\u001b[0;31mAssertionError\u001b[0m                            Traceback (most recent call last)",
            "\u001b[0;32m<ipython-input-17-5a18ecfd1fe0>\u001b[0m in \u001b[0;36m<cell line: 16>\u001b[0;34m()\u001b[0m\n\u001b[1;32m     14\u001b[0m \u001b[0;31m#     quotient = divide(numerator, denominator)\u001b[0m\u001b[0;34m\u001b[0m\u001b[0;34m\u001b[0m\u001b[0m\n\u001b[1;32m     15\u001b[0m \u001b[0;31m#     print(f\"The result of the division is: {quotient}\")\u001b[0m\u001b[0;34m\u001b[0m\u001b[0;34m\u001b[0m\u001b[0m\n\u001b[0;32m---> 16\u001b[0;31m \u001b[0mprint\u001b[0m\u001b[0;34m(\u001b[0m\u001b[0mdivide\u001b[0m\u001b[0;34m(\u001b[0m\u001b[0mnumerator\u001b[0m\u001b[0;34m,\u001b[0m\u001b[0mdenominator\u001b[0m\u001b[0;34m)\u001b[0m\u001b[0;34m)\u001b[0m\u001b[0;34m\u001b[0m\u001b[0;34m\u001b[0m\u001b[0m\n\u001b[0m",
            "\u001b[0;32m<ipython-input-17-5a18ecfd1fe0>\u001b[0m in \u001b[0;36mdivide\u001b[0;34m(a, b)\u001b[0m\n\u001b[1;32m      1\u001b[0m \u001b[0;32mdef\u001b[0m \u001b[0mdivide\u001b[0m\u001b[0;34m(\u001b[0m\u001b[0ma\u001b[0m\u001b[0;34m,\u001b[0m \u001b[0mb\u001b[0m\u001b[0;34m)\u001b[0m\u001b[0;34m:\u001b[0m\u001b[0;34m\u001b[0m\u001b[0;34m\u001b[0m\u001b[0m\n\u001b[1;32m      2\u001b[0m   \u001b[0;31m# Use assert to check if the denominator is not zero\u001b[0m\u001b[0;34m\u001b[0m\u001b[0;34m\u001b[0m\u001b[0m\n\u001b[0;32m----> 3\u001b[0;31m     \u001b[0;32massert\u001b[0m \u001b[0mb\u001b[0m \u001b[0;34m!=\u001b[0m \u001b[0;36m0\u001b[0m\u001b[0;34m,\u001b[0m \u001b[0;34m\"Division by zero is not allowed...need help\"\u001b[0m\u001b[0;34m\u001b[0m\u001b[0;34m\u001b[0m\u001b[0m\n\u001b[0m\u001b[1;32m      4\u001b[0m \u001b[0;34m\u001b[0m\u001b[0m\n\u001b[1;32m      5\u001b[0m     \u001b[0mresult\u001b[0m \u001b[0;34m=\u001b[0m \u001b[0ma\u001b[0m \u001b[0;34m/\u001b[0m \u001b[0mb\u001b[0m\u001b[0;34m\u001b[0m\u001b[0;34m\u001b[0m\u001b[0m\n",
            "\u001b[0;31mAssertionError\u001b[0m: Division by zero is not allowed...need help"
          ]
        }
      ]
    },
    {
      "cell_type": "code",
      "source": [
        "def divide(a, b):\n",
        "  # Use assert to check if the denominator is not zero\n",
        "    assert b != 0, \"Division by zero is not allowed...need help\"\n",
        "\n",
        "    result = a / b\n",
        "    return result\n",
        "\n",
        "numerator = float(input(\"Enter the numerator: \"))\n",
        "denominator = float(input(\"Enter the denominator: \"))\n",
        "\n",
        "print(divide(numerator,denominator))\n"
      ],
      "metadata": {
        "colab": {
          "base_uri": "https://localhost:8080/"
        },
        "id": "wINnwmRxRtuY",
        "outputId": "c19254dd-bc04-4ec9-c8d6-8e38e4c4ad64"
      },
      "execution_count": null,
      "outputs": [
        {
          "output_type": "stream",
          "name": "stdout",
          "text": [
            "Enter the numerator: 12\n",
            "Enter the denominator: 3\n",
            "4.0\n"
          ]
        }
      ]
    },
    {
      "cell_type": "markdown",
      "source": [
        "16.\tCreate a Python program that determines the eligibility of a person for a senior citizen discount based on age using if-else."
      ],
      "metadata": {
        "id": "f3aHYjkRPcSL"
      }
    },
    {
      "cell_type": "code",
      "source": [
        "def check_senior_citizen_discount(age):\n",
        "    if age >= 60:\n",
        "        return \"You are eligible for a senior citizen discount.\"\n",
        "    else:\n",
        "        return \"Sorry, you are not eligible for a senior citizen discount.\"\n",
        "\n",
        "age = int(input(\"Enter your age: \"))\n",
        "result = check_senior_citizen_discount(age)\n",
        "print(result)"
      ],
      "metadata": {
        "colab": {
          "base_uri": "https://localhost:8080/"
        },
        "id": "nG9Y7LcrRzjZ",
        "outputId": "ad09e010-2e72-48ac-e871-7dec744e9335"
      },
      "execution_count": null,
      "outputs": [
        {
          "output_type": "stream",
          "name": "stdout",
          "text": [
            "Enter your age: 65\n",
            "You are eligible for a senior citizen discount.\n"
          ]
        }
      ]
    },
    {
      "cell_type": "markdown",
      "source": [
        "17.\tWrite a Python program to categorize a given character as uppercase, lowercase, or neither using if-else."
      ],
      "metadata": {
        "id": "4Au7q6JYPfUm"
      }
    },
    {
      "cell_type": "code",
      "source": [
        "def categorize_character(char):\n",
        "    if char.isupper():\n",
        "        return \"Uppercase\"\n",
        "    elif char.islower():\n",
        "        return \"Lowercase\"\n",
        "    else:\n",
        "        return \"Neither uppercase nor lowercase\"\n",
        "\n",
        "character = input(\"Enter a character: \")\n",
        "result = categorize_character(character)\n",
        "print(f\"The character is: {result}\")\n"
      ],
      "metadata": {
        "colab": {
          "base_uri": "https://localhost:8080/"
        },
        "id": "6owFf-P7SDf8",
        "outputId": "53129cd6-096b-4f24-be34-5c31df716e32"
      },
      "execution_count": null,
      "outputs": [
        {
          "output_type": "stream",
          "name": "stdout",
          "text": [
            "Enter a character: R\n",
            "The character is: Uppercase\n"
          ]
        }
      ]
    },
    {
      "cell_type": "markdown",
      "source": [
        "18.\tWrite a Python program to determine the roots of a quadratic equation using if-else."
      ],
      "metadata": {
        "id": "F0RX6UJbPhlM"
      }
    },
    {
      "cell_type": "code",
      "source": [
        "import math\n",
        "\n",
        "def calculate_roots(a, b, c):\n",
        "    discriminant = b**2 - 4*a*c\n",
        "\n",
        "    if discriminant > 0:\n",
        "        root1 = (-b + math.sqrt(discriminant)) / (2*a)\n",
        "        root2 = (-b - math.sqrt(discriminant)) / (2*a)\n",
        "        return f\"Roots are real and different: {root1}, {root2}\"\n",
        "    elif discriminant == 0:\n",
        "        root = -b / (2*a)\n",
        "        return f\"Roots are real and identical: {root}\"\n",
        "    else:\n",
        "        real_part = -b / (2*a)\n",
        "        imaginary_part = math.sqrt(abs(discriminant)) / (2*a)\n",
        "        return f\"Roots are complex: {real_part} + {imaginary_part}i, {real_part} - {imaginary_part}i\"\n",
        "\n",
        "a = float(input(\"Enter the coefficient a: \"))\n",
        "b = float(input(\"Enter the coefficient b: \"))\n",
        "c = float(input(\"Enter the coefficient c: \"))\n",
        "\n",
        "roots_result = calculate_roots(a, b, c)\n",
        "print(roots_result)\n"
      ],
      "metadata": {
        "colab": {
          "base_uri": "https://localhost:8080/"
        },
        "id": "8Y2oXtPHSU9X",
        "outputId": "2c594c18-1643-4921-bbe0-fb9d4db826cc"
      },
      "execution_count": null,
      "outputs": [
        {
          "output_type": "stream",
          "name": "stdout",
          "text": [
            "Enter the coefficient a: 3\n",
            "Enter the coefficient b: 2\n",
            "Enter the coefficient c: 1\n",
            "Roots are complex: -0.3333333333333333 + 0.47140452079103173i, -0.3333333333333333 - 0.47140452079103173i\n"
          ]
        }
      ]
    },
    {
      "cell_type": "markdown",
      "source": [
        "19.\tCreate a Python program that checks if a given year is a century year or not using if-else."
      ],
      "metadata": {
        "id": "ZU0KdwwvPjz5"
      }
    },
    {
      "cell_type": "code",
      "source": [
        "def is_century_year(year):\n",
        "    if year % 100 == 0:\n",
        "        return f\"{year} is a century year.\"\n",
        "    else:\n",
        "        return f\"{year} is not a century year.\"\n",
        "\n",
        "year = int(input(\"Enter a year: \"))\n",
        "result = is_century_year(year)\n",
        "print(result)\n"
      ],
      "metadata": {
        "colab": {
          "base_uri": "https://localhost:8080/"
        },
        "id": "lPJo42SlSzia",
        "outputId": "38a63da6-0736-46a8-f122-280f74f86ad7"
      },
      "execution_count": null,
      "outputs": [
        {
          "output_type": "stream",
          "name": "stdout",
          "text": [
            "Enter a year: 1200\n",
            "1200 is a century year.\n"
          ]
        }
      ]
    },
    {
      "cell_type": "markdown",
      "source": [
        "20.\tWrite a Python program to determine if a given number is a perfect square using if-else."
      ],
      "metadata": {
        "id": "FbcWTBrlPmhx"
      }
    },
    {
      "cell_type": "code",
      "source": [
        "def is_perfect_square(number):\n",
        "    if number < 0:\n",
        "        return f\"{number} is not a perfect square (negative numbers are not perfect squares).\"\n",
        "\n",
        "    square_root = int(number**0.5)\n",
        "    if square_root**2 == number:\n",
        "        return f\"{number} is a perfect square.\"\n",
        "    else:\n",
        "        return f\"{number} is not a perfect square.\"\n",
        "\n",
        "number = float(input(\"Enter a number: \"))\n",
        "result = is_perfect_square(number)\n",
        "print(result)\n"
      ],
      "metadata": {
        "colab": {
          "base_uri": "https://localhost:8080/"
        },
        "id": "qWrtTQkOTKto",
        "outputId": "34d73e9c-9a59-4dec-ac3e-bc1d4f427de1"
      },
      "execution_count": null,
      "outputs": [
        {
          "output_type": "stream",
          "name": "stdout",
          "text": [
            "Enter a number: 16\n",
            "16.0 is a perfect square.\n"
          ]
        }
      ]
    },
    {
      "cell_type": "markdown",
      "source": [
        "21.\tExplain the purpose of the \"continue\" and \"break\" statements within if-else loops."
      ],
      "metadata": {
        "id": "xZVu7MhsPpem"
      }
    },
    {
      "cell_type": "code",
      "source": [
        "# The continue statement is used to skip the rest of the code inside a loop for the current iteration and proceed to the next iteration.\n",
        "for i in range(5):\n",
        "    if i == 2:\n",
        "        continue\n",
        "    print(i)\n"
      ],
      "metadata": {
        "colab": {
          "base_uri": "https://localhost:8080/"
        },
        "id": "ACvlP0aDUABt",
        "outputId": "e9820ba1-df7e-44ec-d5fe-f9990078d501"
      },
      "execution_count": null,
      "outputs": [
        {
          "output_type": "stream",
          "name": "stdout",
          "text": [
            "0\n",
            "1\n",
            "3\n",
            "4\n"
          ]
        }
      ]
    },
    {
      "cell_type": "code",
      "source": [
        "# The break statement is used to exit a loop prematurely, regardless of the loop condition.\n",
        "for i in range(5):\n",
        "    if i == 3:\n",
        "        break\n",
        "    print(i)\n"
      ],
      "metadata": {
        "colab": {
          "base_uri": "https://localhost:8080/"
        },
        "id": "uUMcznL5WgkZ",
        "outputId": "19096b8c-4461-43bb-f339-e3f04e843653"
      },
      "execution_count": null,
      "outputs": [
        {
          "output_type": "stream",
          "name": "stdout",
          "text": [
            "0\n",
            "1\n",
            "2\n"
          ]
        }
      ]
    },
    {
      "cell_type": "markdown",
      "source": [
        "22.\tCreate a Python program that calculates the BMI (Body Mass Index) of a person based on their weight and height using if-else."
      ],
      "metadata": {
        "id": "Q7KffD5MPvaG"
      }
    },
    {
      "cell_type": "code",
      "source": [
        "def calculate_bmi(weight, height):\n",
        "    height_in_meters = height / 100\n",
        "    bmi = weight / (height_in_meters ** 2)\n",
        "    return bmi\n",
        "\n",
        "def categorize_bmi(bmi):\n",
        "    if bmi < 18.5:\n",
        "        return \"Underweight\"\n",
        "    elif 18.5 <= bmi < 25:\n",
        "        return \"Normal weight\"\n",
        "    elif 25 <= bmi < 30:\n",
        "        return \"Overweight\"\n",
        "    else:\n",
        "        return \"Obese\"\n",
        "\n",
        "weight = float(input(\"Enter your weight in kilograms: \"))\n",
        "height = float(input(\"Enter your height in centimeters: \"))\n",
        "\n",
        "bmi_result = calculate_bmi(weight, height)\n",
        "bmi_category = categorize_bmi(bmi_result)\n",
        "\n",
        "print(f\"Your BMI is: {bmi_result:.2f}\")\n",
        "print(f\"You are categorized as: {bmi_category}\")\n"
      ],
      "metadata": {
        "colab": {
          "base_uri": "https://localhost:8080/"
        },
        "id": "5SThymZ_UBi_",
        "outputId": "23f69363-858f-4a7b-ab16-427cd934b170"
      },
      "execution_count": null,
      "outputs": [
        {
          "output_type": "stream",
          "name": "stdout",
          "text": [
            "Enter your weight in kilograms: 59\n",
            "Enter your height in centimeters: 178\n",
            "Your BMI is: 18.62\n",
            "You are categorized as: Normal weight\n"
          ]
        }
      ]
    },
    {
      "cell_type": "markdown",
      "source": [
        "23.\tHow can you use the \"filter()\" function with if-else statements to filter elements from a list?"
      ],
      "metadata": {
        "id": "gmzvAR16Pxbx"
      }
    },
    {
      "cell_type": "code",
      "source": [
        "# Example list\n",
        "numbers = [1, 5, 10, 15, 20, 25]\n",
        "\n",
        "# Using filter with if-else to filter even numbers\n",
        "filtered_numbers = filter(lambda x: True if x % 2 == 0 else False, numbers)\n",
        "result_list = list(filtered_numbers)\n",
        "print(result_list)\n"
      ],
      "metadata": {
        "colab": {
          "base_uri": "https://localhost:8080/"
        },
        "id": "1bmYRI-WUC3h",
        "outputId": "71842b40-d168-47df-b188-715c334fa0dd"
      },
      "execution_count": null,
      "outputs": [
        {
          "output_type": "stream",
          "name": "stdout",
          "text": [
            "[10, 20]\n"
          ]
        }
      ]
    },
    {
      "cell_type": "markdown",
      "source": [
        "24.\tWrite a Python program to determine if a given number is prime or not using if-else."
      ],
      "metadata": {
        "id": "V0ehfKu4P0as"
      }
    },
    {
      "cell_type": "code",
      "source": [
        "def is_prime(number):\n",
        "    if number < 2:\n",
        "        return False\n",
        "    elif number == 2:\n",
        "        return True\n",
        "    elif number % 2 == 0:\n",
        "        return False\n",
        "    else:\n",
        "        for i in range(3, int(number**0.5) + 1, 2):\n",
        "            if number % i == 0:\n",
        "                return False\n",
        "        return True\n",
        "\n",
        "number = int(input(\"Enter a number: \"))\n",
        "result = is_prime(number)\n",
        "\n",
        "if result:\n",
        "    print(f\"{number} is a prime number.\")\n",
        "else:\n",
        "    print(f\"{number} is not a prime number.\")\n"
      ],
      "metadata": {
        "id": "8HFC5erPO9TA",
        "colab": {
          "base_uri": "https://localhost:8080/"
        },
        "outputId": "dcaae0df-c6dd-4a21-ab87-27affe33ea9f"
      },
      "execution_count": null,
      "outputs": [
        {
          "output_type": "stream",
          "name": "stdout",
          "text": [
            "Enter a number: 17\n",
            "17 is a prime number.\n"
          ]
        }
      ]
    },
    {
      "cell_type": "code",
      "source": [],
      "metadata": {
        "id": "tUz0IzhLXloo"
      },
      "execution_count": null,
      "outputs": []
    },
    {
      "cell_type": "markdown",
      "source": [
        "**MAP**"
      ],
      "metadata": {
        "id": "LEM9mQkHX88i"
      }
    },
    {
      "cell_type": "markdown",
      "source": [
        "1.\tExplain the purpose of the `map()` function in Python and provide an example of how it can be used to apply a function to each element of an iterable.\n",
        "2.\tWrite a Python program that uses the `map()` function to square each element of a list of numbers.\n",
        "3.\tHow does the `map()` function differ from a list comprehension in Python, and when would you choose one over the other?\n",
        "4.\tCreate a Python program that uses the `map()` function to convert a list of names to uppercase.\n",
        "5.\tWrite a Python program that uses the `map()` function to calculate the length of each word in a list of strings.\n",
        "6.\tHow can you use the `map()` function to apply a custom function to elements of multiple lists simultaneously in Python?\n",
        "7.\tCreate a Python program that uses `map()` to convert a list of temperatures from Celsius to Fahrenheit.\n",
        "8.\tWrite a Python program that uses the `map()` function to round each element of a list of floating-point numbers to the nearest integer.\n"
      ],
      "metadata": {
        "id": "7Bqnh_kAX-M2"
      }
    },
    {
      "cell_type": "markdown",
      "source": [],
      "metadata": {
        "id": "kyW4EIKuYFUp"
      }
    },
    {
      "cell_type": "markdown",
      "source": [
        "1.Explain the purpose of the `map()` function in Python and provide an example of how it can be used to apply a function to each element of an iterable."
      ],
      "metadata": {
        "id": "IQnnhmwqbELR"
      }
    },
    {
      "cell_type": "markdown",
      "source": [
        "ans:\n",
        "\n",
        "The map() function in Python is a built-in function that is used to apply a specified function to all items in an iterable (e.g., a list, tuple, or string) and return an iterator that produces the results. The syntax for the map() function is as follows:"
      ],
      "metadata": {
        "id": "7C42EIefclxX"
      }
    },
    {
      "cell_type": "code",
      "source": [
        "# map(function, iterable, ...)\n",
        "\n",
        "def cube(x):\n",
        "    return x ** 3\n",
        "\n",
        "numbers = [1, 2, 3, 4, 5]\n",
        "\n",
        "# Use map() to apply the cube function to each element of the list\n",
        "cube_numbers = map(cube, numbers)\n",
        "\n",
        "cube_numbers_list = list(cube_numbers)\n",
        "print(cube_numbers_list)\n",
        "\n"
      ],
      "metadata": {
        "id": "zsvkpFD6X_9i",
        "colab": {
          "base_uri": "https://localhost:8080/"
        },
        "outputId": "29e299a3-4f32-4cc2-aa70-e65ad1d8d42d"
      },
      "execution_count": null,
      "outputs": [
        {
          "output_type": "stream",
          "name": "stdout",
          "text": [
            "[1, 8, 27, 64, 125]\n"
          ]
        }
      ]
    },
    {
      "cell_type": "markdown",
      "source": [
        "2.Write a Python program that uses the map() function to square each element of a list of numbers."
      ],
      "metadata": {
        "id": "Tdc6z_71dGrk"
      }
    },
    {
      "cell_type": "code",
      "source": [
        "def square(x):\n",
        "  return x**2\n",
        "\n",
        "numbers=[2,4,6,8,10,12]\n",
        "\n",
        "#use map() to apply the square function to each element of the list\n",
        "square_numbers = map(square,numbers)\n",
        "\n",
        "square_numbers_list = list(square_numbers)\n",
        "print(square_numbers_list)\n"
      ],
      "metadata": {
        "colab": {
          "base_uri": "https://localhost:8080/"
        },
        "id": "e2HXIf-hdHll",
        "outputId": "e0a26c96-fa10-4d10-dd4f-63855ce27d78"
      },
      "execution_count": null,
      "outputs": [
        {
          "output_type": "stream",
          "name": "stdout",
          "text": [
            "[4, 16, 36, 64, 100, 144]\n"
          ]
        }
      ]
    },
    {
      "cell_type": "markdown",
      "source": [
        "3.How does the map() function differ from a list comprehension in Python, and when would you choose one over the other?"
      ],
      "metadata": {
        "id": "MjZ7zjaAeHVJ"
      }
    },
    {
      "cell_type": "markdown",
      "source": [
        "\n",
        "Both map() and list comprehensions in Python are used to perform operations on elements of iterables, but they have some differences in terms of syntax and use cases."
      ],
      "metadata": {
        "id": "rt2wrEa9eitk"
      }
    },
    {
      "cell_type": "markdown",
      "source": [
        "map() Function:"
      ],
      "metadata": {
        "id": "SuDkLMqUepd5"
      }
    },
    {
      "cell_type": "code",
      "source": [
        "# map(function, iterable, ...)\n",
        "# Examples\n",
        "numbers = [1, 2, 3, 4, 5]\n",
        "squared_numbers = map(lambda x: x ** 2, numbers)\n",
        "result = list(squared_numbers)\n",
        "print(result)"
      ],
      "metadata": {
        "colab": {
          "base_uri": "https://localhost:8080/"
        },
        "id": "ff5fD4oHeG9X",
        "outputId": "eb8ff690-0528-49dc-dd68-9b8591cb5580"
      },
      "execution_count": null,
      "outputs": [
        {
          "output_type": "stream",
          "name": "stdout",
          "text": [
            "[1, 4, 9, 16, 25]\n"
          ]
        }
      ]
    },
    {
      "cell_type": "markdown",
      "source": [
        "Returns:\n",
        "It returns an iterator.\n",
        "\n",
        "Use Case:\n",
        "\n",
        "It is specifically designed for applying a function to each item in an iterable and returning the results as an iterator.\n",
        "It's useful when you want to transform every element of an iterable and create a new iterable without the need to explicitly convert it to a list."
      ],
      "metadata": {
        "id": "v2ybOSeje-t7"
      }
    },
    {
      "cell_type": "markdown",
      "source": [
        "**List Comprehension:**"
      ],
      "metadata": {
        "id": "BxGCWPBVfBCJ"
      }
    },
    {
      "cell_type": "code",
      "source": [
        "# [expression for item in iterable if condition]\n",
        "# Examples\n",
        "numbers = [1, 2, 3, 4, 5]\n",
        "squared_numbers = [x ** 2 for x in numbers]\n",
        "print(squared_numbers)"
      ],
      "metadata": {
        "colab": {
          "base_uri": "https://localhost:8080/"
        },
        "id": "UVzJHGsXfGDh",
        "outputId": "8b75829c-ae50-4d0a-d235-0f4025079ef8"
      },
      "execution_count": null,
      "outputs": [
        {
          "output_type": "stream",
          "name": "stdout",
          "text": [
            "[1, 4, 9, 16, 25]\n"
          ]
        }
      ]
    },
    {
      "cell_type": "markdown",
      "source": [
        "Returns:\n",
        "It returns a new list.\n",
        "\n",
        "Use Case:\n",
        "\n",
        "It is more versatile and can be used not only for mapping but also for filtering elements based on a condition.\n",
        "It's suitable when you want to create a new list by applying an expression to each item in an iterable or when you need to include a conditional statement."
      ],
      "metadata": {
        "id": "aR_lkS0CfKDt"
      }
    },
    {
      "cell_type": "markdown",
      "source": [
        "4.Create a Python program that uses the map() function to convert a list of names to uppercase."
      ],
      "metadata": {
        "id": "3PF5jbc1ff1w"
      }
    },
    {
      "cell_type": "code",
      "source": [
        "def upperCase(char):\n",
        "  return char.upper()\n",
        "\n",
        "lst_name=[\"ram\",\"shiyam\",\"rita\",\"gita\"]\n",
        "\n",
        "upper_lst_name = map(upperCase,[i for i in lst_name])\n",
        "print(list(upper_lst_name))\n"
      ],
      "metadata": {
        "colab": {
          "base_uri": "https://localhost:8080/"
        },
        "id": "dcSMhVGvfhwn",
        "outputId": "827281bd-ba05-43da-e923-d756a77c76bf"
      },
      "execution_count": null,
      "outputs": [
        {
          "output_type": "stream",
          "name": "stdout",
          "text": [
            "['RAM', 'SHIYAM', 'RITA', 'GITA']\n"
          ]
        }
      ]
    },
    {
      "cell_type": "markdown",
      "source": [
        "5.Write a Python program that uses the map() function to calculate the length of each word in a list of strings."
      ],
      "metadata": {
        "id": "HV7cLuJkhLgS"
      }
    },
    {
      "cell_type": "code",
      "source": [
        "def length_calculate(word):\n",
        "   return len(word)\n",
        "\n",
        "list_words=[\"hello\",\"this\",\"is \",\"my\",\"friend\",\"Rupesh\"]\n",
        "\n",
        "length_list_words=map(length_calculate,list_words)\n",
        "print(f\"the length of each word in list'{list_words}' is : \", list(length_list_words))"
      ],
      "metadata": {
        "colab": {
          "base_uri": "https://localhost:8080/"
        },
        "id": "TdZCra7khUVw",
        "outputId": "a337c205-b3a5-476d-f7cf-dff3db9c047b"
      },
      "execution_count": null,
      "outputs": [
        {
          "output_type": "stream",
          "name": "stdout",
          "text": [
            "the length of each word in list'['hello', 'this', 'is ', 'my', 'friend', 'Rupesh']' is :  [5, 4, 3, 2, 6, 6]\n"
          ]
        }
      ]
    },
    {
      "cell_type": "markdown",
      "source": [
        "6.How can you use the map() function to apply a custom function to elements of multiple lists simultaneously in Python?"
      ],
      "metadata": {
        "id": "tjIUtGq_o8rh"
      }
    },
    {
      "cell_type": "code",
      "source": [
        "# Define a custom function that takes two arguments and returns their sum\n",
        "def add_elements(x, y, z):\n",
        "    return x + y + z\n",
        "\n",
        "list1 = [1, 2, 3, 4]\n",
        "list2 = [5, 6, 7, 8]\n",
        "list3 = [3, 4, 5, 6]\n",
        "\n",
        "sum_result = map(add_elements, list1, list2, list3)\n",
        "\n",
        "sum_result_list = list(sum_result)\n",
        "print(sum_result_list)\n"
      ],
      "metadata": {
        "colab": {
          "base_uri": "https://localhost:8080/"
        },
        "id": "-pDSY-9Co9zu",
        "outputId": "b3eb0b6e-2bbe-4c6c-d677-36b530a24204"
      },
      "execution_count": null,
      "outputs": [
        {
          "output_type": "stream",
          "name": "stdout",
          "text": [
            "[9, 12, 15, 18]\n"
          ]
        }
      ]
    },
    {
      "cell_type": "markdown",
      "source": [
        "7.Create a Python program that uses map() to convert a list of temperatures from Celsius to Fahrenheit."
      ],
      "metadata": {
        "id": "h9qhlR_Ep1rF"
      }
    },
    {
      "cell_type": "code",
      "source": [
        "Celsius_F= lambda c :((9*c/5)+32)\n",
        "\n",
        "list_celsius=[30,31,32,33,34,36,37]\n",
        "\n",
        "fahrenheit = map(Celsius_F, list_celsius)\n",
        "print(f\"celsius '{list_celsius}' to fahrenheit : {list(fahrenheit)}\")\n"
      ],
      "metadata": {
        "colab": {
          "base_uri": "https://localhost:8080/"
        },
        "id": "rMfkVYbXp3Bq",
        "outputId": "d27367d2-0e46-404a-8a95-67b9abea894d"
      },
      "execution_count": null,
      "outputs": [
        {
          "output_type": "stream",
          "name": "stdout",
          "text": [
            "celsius '[30, 31, 32, 33, 34, 36, 37]' to fahrenheit : [86.0, 87.8, 89.6, 91.4, 93.2, 96.8, 98.6]\n"
          ]
        }
      ]
    },
    {
      "cell_type": "markdown",
      "source": [
        "8.Write a Python program that uses the map() function to round each element of a list of floating-point numbers to the nearest integer."
      ],
      "metadata": {
        "id": "XJtvjntzrmiV"
      }
    },
    {
      "cell_type": "code",
      "source": [
        "list_float =[3.501,67.5666,456.34556,12.0455,6.56575]\n",
        "\n",
        "nearest_integer = map(lambda x:round(x),list_float)\n",
        "print(f\"the list of floating point  '{list_float}' to the nearest integer is equal to : {list(nearest_integer)}\")"
      ],
      "metadata": {
        "colab": {
          "base_uri": "https://localhost:8080/"
        },
        "id": "MPq_XI3Zr7A_",
        "outputId": "4489855c-26e6-4f17-9975-031b353ea49d"
      },
      "execution_count": null,
      "outputs": [
        {
          "output_type": "stream",
          "name": "stdout",
          "text": [
            "the list of floating point  '[3.501, 67.5666, 456.34556, 12.0455, 6.56575]' to the nearest integer is equal to : [4, 68, 456, 12, 7]\n"
          ]
        }
      ]
    },
    {
      "cell_type": "markdown",
      "source": [
        "**REDUCE**"
      ],
      "metadata": {
        "id": "BjGnkJadYPPd"
      }
    },
    {
      "cell_type": "markdown",
      "source": [
        "1.\tWhat is the `reduce()` function in Python, and what module should you import to use it? Provide an example of its basic usage.\n",
        "2.\tWrite a Python program that uses the `reduce()` function to find the product of all elements in a list.\n",
        "3.\tCreate a Python program that uses `reduce()` to find the maximum element in a list of numbers.\n",
        "4.\tHow can you use the `reduce()` function to concatenate a list of strings into a single string?\n",
        "5.\tWrite a Python program that calculates the factorial of a number using the `reduce()` function.\n",
        "6.\tCreate a Python program that uses `reduce()` to find the GCD (Greatest Common Divisor) of a list of numbers.\n",
        "7.\tWrite a Python program that uses the `reduce()` function to find the sum of the digits of a given number.\n"
      ],
      "metadata": {
        "id": "bfK6f0qUYKOC"
      }
    },
    {
      "cell_type": "markdown",
      "source": [
        "1.What is the reduce() function in Python, and what module should you import to use it? Provide an example of its basic usage."
      ],
      "metadata": {
        "id": "xgGccxB_s3sr"
      }
    },
    {
      "cell_type": "markdown",
      "source": [
        "The reduce() function is part of the functools module in Python. It is used for applying a specified function to the items of an iterable (e.g., a list) in a cumulative way, reducing the iterable to a single accumulated result. The general syntax of reduce() is as follows:\n",
        "\n",
        "functools.reduce(function, iterable[, initializer])\n"
      ],
      "metadata": {
        "id": "uB50gOW7n_2d"
      }
    },
    {
      "cell_type": "code",
      "source": [
        "from functools import reduce\n",
        "\n",
        "# Define a list of numbers\n",
        "numbers = [1, 2, 3, 4, 5]\n",
        "\n",
        "# Define a function to multiply two numbers\n",
        "def multiply(x, y):\n",
        "    return x * y\n",
        "\n",
        "# Use reduce to calculate the product of all elements in the list\n",
        "result = reduce(multiply, numbers)\n",
        "\n",
        "# Print the result\n",
        "print(result)\n"
      ],
      "metadata": {
        "colab": {
          "base_uri": "https://localhost:8080/"
        },
        "id": "1F18K9NJoMr7",
        "outputId": "1b5ca58e-0cc2-4bfc-f52c-3e97c42f25b7"
      },
      "execution_count": null,
      "outputs": [
        {
          "output_type": "stream",
          "name": "stdout",
          "text": [
            "120\n"
          ]
        }
      ]
    },
    {
      "cell_type": "markdown",
      "source": [
        "2.Write a Python program that uses the reduce() function to find the product of all elements in a list."
      ],
      "metadata": {
        "id": "8pWN1Asws6fI"
      }
    },
    {
      "cell_type": "code",
      "source": [
        "lst=[1,2,3,4,5,6,7,8,9,10]\n",
        "\n",
        "product_lst=reduce(lambda x,y : x*y,lst)\n",
        "print(f\"the product of all elements of list '{lst}' is equal to '{product_lst}'\")"
      ],
      "metadata": {
        "id": "mj5iHnlhs9Gk",
        "colab": {
          "base_uri": "https://localhost:8080/"
        },
        "outputId": "369d461c-0fa8-4e4e-c63f-df21ad733f38"
      },
      "execution_count": null,
      "outputs": [
        {
          "output_type": "stream",
          "name": "stdout",
          "text": [
            "the product of all elements of list '[1, 2, 3, 4, 5, 6, 7, 8, 9, 10]' is equal to '3628800'\n"
          ]
        }
      ]
    },
    {
      "cell_type": "markdown",
      "source": [
        "3.Create a Python program that uses reduce() to find the maximum element in a list of numbers."
      ],
      "metadata": {
        "id": "f1xIShnws9V4"
      }
    },
    {
      "cell_type": "code",
      "source": [
        "lst=[2,4,67,8,9,12,45]\n",
        "max_element_list=reduce(lambda x,y: x if x>y else y,lst)\n",
        "print(f\"the maximum element from the given list is equalt to {max_element_list}\")"
      ],
      "metadata": {
        "id": "0a9JAkt9tALJ",
        "colab": {
          "base_uri": "https://localhost:8080/"
        },
        "outputId": "534fd005-3cf3-4f80-832f-2cace542407a"
      },
      "execution_count": null,
      "outputs": [
        {
          "output_type": "stream",
          "name": "stdout",
          "text": [
            "the maximum element from the given list is equalt to 67\n"
          ]
        }
      ]
    },
    {
      "cell_type": "markdown",
      "source": [
        "4.How can you use the reduce() function to concatenate a list of strings into a single string?"
      ],
      "metadata": {
        "id": "cc94dFaNtAau"
      }
    },
    {
      "cell_type": "code",
      "source": [
        "lst=[\"My\",\"Name\",\"is\",\"Rupesh\",\"kumar\",\"Daha\"]\n",
        "single_list = reduce(lambda x,y: x+\" \"+y,lst)\n",
        "print(f\"the sigle string is:   {single_list}\")"
      ],
      "metadata": {
        "colab": {
          "base_uri": "https://localhost:8080/"
        },
        "id": "Ek3uLJ-RpwH3",
        "outputId": "e3873b81-9169-41c8-cb84-d26456b9e28b"
      },
      "execution_count": null,
      "outputs": [
        {
          "output_type": "stream",
          "name": "stdout",
          "text": [
            "the sigle string is:   My Name is Rupesh kumar Daha\n"
          ]
        }
      ]
    },
    {
      "cell_type": "markdown",
      "source": [
        "5.Write a Python program that calculates the factorial of a number using the reduce() function."
      ],
      "metadata": {
        "id": "MLKbpOvRtFyA"
      }
    },
    {
      "cell_type": "code",
      "source": [
        "n=int(input(\"Enter the number you want factorial: \"))\n",
        "factorial_number= reduce(lambda x,y : x*y,[i for i in range(1,n+1)])\n",
        "\n",
        "print(f\"factorial of number '{n}' is equal to = '{factorial_number}'\")"
      ],
      "metadata": {
        "id": "XKJHZVTMtG_Y",
        "colab": {
          "base_uri": "https://localhost:8080/"
        },
        "outputId": "826468ae-31e9-42eb-fa13-f80eaa0d03a9"
      },
      "execution_count": null,
      "outputs": [
        {
          "output_type": "stream",
          "name": "stdout",
          "text": [
            "Enter the number you want factorial: 10\n",
            "factorial of number '10' is equal to = '3628800'\n"
          ]
        }
      ]
    },
    {
      "cell_type": "markdown",
      "source": [
        "6.Create a Python program that uses reduce() to find the GCD (Greatest Common Divisor) of a list of numbers."
      ],
      "metadata": {
        "id": "mW7Xk9N7tHOE"
      }
    },
    {
      "cell_type": "code",
      "source": [
        "from functools import reduce\n",
        "import math\n",
        "def find_gcd(x,y):\n",
        "  return math.gcd(x,y)\n",
        "\n",
        "def find_gcd_list(numbers):\n",
        "  list_gcd=reduce(find_gcd,numbers)\n",
        "  return list_gcd\n",
        "\n",
        "lst_numbers = [2,4,6,8,10]\n",
        "\n",
        "list_num_of_gcd = find_gcd_list(lst_numbers)\n",
        "print(f\"the gdc of list of '{lst_numbers}' is equal to {list_num_of_gcd}\")\n"
      ],
      "metadata": {
        "id": "S2Sdm0R9tFkY",
        "colab": {
          "base_uri": "https://localhost:8080/"
        },
        "outputId": "a79cac84-bab7-404e-c2b7-c15153d18e2a"
      },
      "execution_count": null,
      "outputs": [
        {
          "output_type": "stream",
          "name": "stdout",
          "text": [
            "the gdc of list of '[2, 4, 6, 8, 10]' is equal to 2\n"
          ]
        }
      ]
    },
    {
      "cell_type": "markdown",
      "source": [
        "7.Write a Python program that uses the reduce() function to find the sum of the digits of a given number."
      ],
      "metadata": {
        "id": "iaqnMnbGtM3v"
      }
    },
    {
      "cell_type": "code",
      "source": [
        "def sum_number(x,y):\n",
        "  return int(x)+int(y)\n",
        "\n",
        "def sum_of_digit(number):\n",
        "  str_number = str(number)\n",
        "  sum_number_ = reduce(sum_number,str_number)\n",
        "  return sum_number_\n",
        "number = int(input(\"Enter the number: \"))\n",
        "\n",
        "print(f\"the sum of the number '{number}' is equal to '{sum_of_digit(number)}'\")\n"
      ],
      "metadata": {
        "id": "d9P3c7WjtQMX",
        "colab": {
          "base_uri": "https://localhost:8080/"
        },
        "outputId": "d68d14ed-9c20-4fcb-d890-386940669288"
      },
      "execution_count": null,
      "outputs": [
        {
          "output_type": "stream",
          "name": "stdout",
          "text": [
            "Enter the number: 12345\n",
            "the sum of the number '12345' is equal to '15'\n"
          ]
        }
      ]
    },
    {
      "cell_type": "markdown",
      "source": [
        "**Filter :-**"
      ],
      "metadata": {
        "id": "ssVSWJdxYXzt"
      }
    },
    {
      "cell_type": "markdown",
      "source": [
        "1.\tExplain the purpose of the `filter()` function in Python and provide an example of how it can be used to filter elements from an iterable.\n",
        "2.\tWrite a Python program that uses the `filter()` function to select even numbers from a list of integers.\n",
        "3.\tCreate a Python program that uses the `filter()` function to select names that start with a specific letter from a list of strings.\n",
        "4.\tWrite a Python program that uses the `filter()` function to select prime numbers from a list of integers.\n",
        "5.\tHow can you use the `filter()` function to remove None values from a list in Python?\n",
        "6.\tCreate a Python program that uses `filter()` to select words longer than a certain length from a list of strings.\n",
        "7.\tWrite a Python program that uses the `filter()` function to select elements greater than a specified threshold from a list of values.\n"
      ],
      "metadata": {
        "id": "iRneX0SoYSta"
      }
    },
    {
      "cell_type": "markdown",
      "source": [
        "1.Explain the purpose of the filter() function in Python and provide an example of how it can be used to filter elements from an iterable."
      ],
      "metadata": {
        "id": "5a0Hxz9l_XP7"
      }
    },
    {
      "cell_type": "markdown",
      "source": [
        "The filter() function in Python is used to filter elements from an iterable (e.g., a list) based on a specified function, which determines whether each element should be included in the filtered result. The general syntax of filter() is as follows:\n",
        "\n",
        "filter(function, iterable)\n"
      ],
      "metadata": {
        "id": "PGy4EzqYZj1d"
      }
    },
    {
      "cell_type": "code",
      "source": [
        "# Examples...\n",
        "\n",
        "# Function to check if a number is odd\n",
        "def is_odd(num):\n",
        "    return num % 2 == 1\n",
        "\n",
        "# List of numbers\n",
        "numbers = [1, 2, 3, 4, 5, 6, 7, 8, 9, 10]\n",
        "\n",
        "\n",
        "odd_numbers = filter(is_odd, numbers)\n",
        "\n",
        "\n",
        "odd_numbers_list = list(odd_numbers)\n",
        "\n",
        "# Print the result\n",
        "print(\"Original numbers:\", numbers)\n",
        "print(\"odd numbers:\", odd_numbers_list)\n"
      ],
      "metadata": {
        "colab": {
          "base_uri": "https://localhost:8080/"
        },
        "id": "poaN8HB6_anC",
        "outputId": "33a7783b-bd78-4b87-ba1f-d83f9b3e8b4e"
      },
      "execution_count": null,
      "outputs": [
        {
          "output_type": "stream",
          "name": "stdout",
          "text": [
            "Original numbers: [1, 2, 3, 4, 5, 6, 7, 8, 9, 10]\n",
            "odd numbers: [1, 3, 5, 7, 9]\n"
          ]
        }
      ]
    },
    {
      "cell_type": "markdown",
      "source": [
        "2.Write a Python program that uses the filter() function to select even numbers from a list of integers."
      ],
      "metadata": {
        "id": "t_33-E3__bro"
      }
    },
    {
      "cell_type": "code",
      "source": [
        "def even_number(num):\n",
        "  return num%2==0\n",
        "\n",
        "list_original =[23,4,5,8,9,12,23,56,34]\n",
        "even_number = filter(even_number,list_original)\n",
        "\n",
        "print(f\"original list is '{list_original}' and even number list is equal to '{list(even_number)}'\")\n",
        "\n"
      ],
      "metadata": {
        "id": "06IkkmCMYXCG",
        "colab": {
          "base_uri": "https://localhost:8080/"
        },
        "outputId": "6ba0e3c1-6572-4493-829d-139bdf80eb7f"
      },
      "execution_count": null,
      "outputs": [
        {
          "output_type": "stream",
          "name": "stdout",
          "text": [
            "original list is '[23, 4, 5, 8, 9, 12, 23, 56, 34]' and even number list is equal to '[4, 8, 12, 56, 34]'\n"
          ]
        }
      ]
    },
    {
      "cell_type": "markdown",
      "source": [
        "3.Create a Python program that uses the filter() function to select names that start with a specific letter from a list of strings."
      ],
      "metadata": {
        "id": "YxfH0q4N_gEH"
      }
    },
    {
      "cell_type": "code",
      "source": [
        "def name_pick(name,letter):\n",
        "  if name[0:1]==letter:\n",
        "    return True\n",
        "\n",
        "letter = input(\"Enter the single letter: \")\n",
        "lst = [\"Rupesh\",\"Rahul\",\"Bijay\",\"Akash\",\"Rabindar\",\"Rani\"]\n",
        "\n",
        "filter_name = filter(lambda x:name_pick(x,letter) ,lst)\n",
        "\n",
        "print(f\"The name from the list '{lst}' with starting letter '{letter}' is equal to '{list(filter_name)}'\")\n"
      ],
      "metadata": {
        "colab": {
          "base_uri": "https://localhost:8080/"
        },
        "id": "_qEkqcEo_j6G",
        "outputId": "109dacb4-624c-4c3a-d9c3-457ed732f02d"
      },
      "execution_count": null,
      "outputs": [
        {
          "output_type": "stream",
          "name": "stdout",
          "text": [
            "Enter the single letter: R\n",
            "The name from the list '['Rupesh', 'Rahul', 'Bijay', 'Akash', 'Rabindar', 'Rani']' with starting letter 'R' is equal to '['Rupesh', 'Rahul', 'Rabindar', 'Rani']'\n"
          ]
        }
      ]
    },
    {
      "cell_type": "markdown",
      "source": [
        "4.Write a Python program that uses the filter() function to select prime numbers from a list of integers."
      ],
      "metadata": {
        "id": "DUaSyHwc_kOX"
      }
    },
    {
      "cell_type": "code",
      "source": [
        "def is_prime(number):\n",
        "    if number < 2:\n",
        "        return False\n",
        "    for i in range(2, int(number**0.5) + 1):\n",
        "        if number % i == 0:\n",
        "            return False\n",
        "    return True\n",
        "\n",
        "lst_number =[3,4,5,7,8,9,12,34,56,13,35,17,19,23,22,31,37,41]\n",
        "\n",
        "prime_numbers = filter(is_prime,lst_number)\n",
        "\n",
        "print(f\"the prime number from this list '{lst_number}' is list of prime number is equal to '{list(prime_numbers)}'\")\n"
      ],
      "metadata": {
        "colab": {
          "base_uri": "https://localhost:8080/"
        },
        "id": "8kOaZENv_m8B",
        "outputId": "bf110f20-f1bf-495b-c5ef-dca893ecbd2b"
      },
      "execution_count": null,
      "outputs": [
        {
          "output_type": "stream",
          "name": "stdout",
          "text": [
            "the prime number from this list '[3, 4, 5, 7, 8, 9, 12, 34, 56, 13, 35, 17, 19, 23, 22, 31, 37, 41]' is list of prime number is equal to '[3, 5, 7, 13, 17, 19, 23, 31, 37, 41]'\n"
          ]
        }
      ]
    },
    {
      "cell_type": "markdown",
      "source": [
        "5.How can you use the filter() function to remove None values from a list in Python?"
      ],
      "metadata": {
        "id": "3M1vGeeC_nR_"
      }
    },
    {
      "cell_type": "code",
      "source": [
        "def does_value(x):\n",
        "  if x is not None:\n",
        "    return True\n",
        "\n",
        "lst =[4,5,6,None, 78,None , 45, None, None,46]\n",
        "\n",
        "filter_non_value = filter(does_value,lst)\n",
        "\n",
        "print(f\"the removed None values list is equal to '{list(filter_non_value)}'\")"
      ],
      "metadata": {
        "colab": {
          "base_uri": "https://localhost:8080/"
        },
        "id": "me1n6pfA_pj9",
        "outputId": "59cf22ba-348a-42ca-9586-197ba51b0787"
      },
      "execution_count": null,
      "outputs": [
        {
          "output_type": "stream",
          "name": "stdout",
          "text": [
            "the removed None values list is equal to '[4, 5, 6, 78, 45, 46]'\n"
          ]
        }
      ]
    },
    {
      "cell_type": "markdown",
      "source": [
        "6.Create a Python program that uses filter() to select words longer than a certain length from a list of strings."
      ],
      "metadata": {
        "id": "Z5ZagXY-_p77"
      }
    },
    {
      "cell_type": "code",
      "source": [
        "def longer_words(word,length):\n",
        "      if len(word)>length:\n",
        "        return True\n",
        "\n",
        "length = int(input(\"Enter the length which you want in list: \"))\n",
        "lst_words = [\"Rupesh\",\"Siv\",\"Rahul\",\"Sachin\",\"Anuradha\",\"Anushka\",\"Priyanka\"]\n",
        "\n",
        "filter_with_length = filter(lambda x : longer_words(x,length), lst_words)\n",
        "\n",
        "print(f\"The list of words that has length more than '{length}' is these are : '{list(filter_with_length)}'\")\n"
      ],
      "metadata": {
        "colab": {
          "base_uri": "https://localhost:8080/"
        },
        "id": "-Zx4Zp5J_t7W",
        "outputId": "822f808d-0765-4b72-94c7-144ea61527f6"
      },
      "execution_count": null,
      "outputs": [
        {
          "output_type": "stream",
          "name": "stdout",
          "text": [
            "Enter the length which you want in list: 6\n",
            "The list of words that has length more than '6' is these are : '['Anuradha', 'Anushka', 'Priyanka']'\n"
          ]
        }
      ]
    },
    {
      "cell_type": "markdown",
      "source": [
        "7.Write a Python program that uses the filter() function to select elements greater than a specified threshold from a list of values."
      ],
      "metadata": {
        "id": "2nWCJM2s_uNe"
      }
    },
    {
      "cell_type": "code",
      "source": [
        "def filter_greater_than_threshold(value, threshold):\n",
        "  if value > threshold:\n",
        "    return True\n",
        "\n",
        "values = [10, 5, 15, 8, 20, 3, 12]\n",
        "\n",
        "threshold_value = int(input(\"Enter the threshold value: \"))\n",
        "\n",
        "filtered_values = filter(lambda x: filter_greater_than_threshold(x, threshold_value), values)\n",
        "\n",
        "result_list = list(filtered_values)\n",
        "\n",
        "print(f\"Values greater than {threshold_value}: {result_list}\")\n"
      ],
      "metadata": {
        "colab": {
          "base_uri": "https://localhost:8080/"
        },
        "id": "dAVi5dQB_xKB",
        "outputId": "c6ca3116-97c8-4027-ba13-d62919e88d70"
      },
      "execution_count": null,
      "outputs": [
        {
          "output_type": "stream",
          "name": "stdout",
          "text": [
            "Enter the threshold value: 10\n",
            "Values greater than 10: [15, 20, 12]\n"
          ]
        }
      ]
    },
    {
      "cell_type": "markdown",
      "source": [
        "**Recursion:-**"
      ],
      "metadata": {
        "id": "0Kg7LXXmYfBf"
      }
    },
    {
      "cell_type": "markdown",
      "source": [
        "1.\tExplain the concept of recursion in Python. How does it differ from iteration?\n",
        "2.\tWrite a Python program to calculate the factorial of a number using recursion.\n",
        "3.\tCreate a recursive Python function to find the nth Fibonacci number.\n",
        "4.\tWrite a recursive Python function to calculate the sum of all elements in a list.\n",
        "5.\tHow can you prevent a recursive function from running indefinitely, causing a stack overflow error?\n",
        "6.\tCreate a recursive Python function to find the greatest common divisor (GCD) of two numbers using the Euclidean algorithm.\n",
        "7.\tWrite a recursive Python function to reverse a string.\n",
        "8.\tCreate a recursive Python function to calculate the power of a number (x^n).\n",
        "9.\tWrite a recursive Python function to find all permutations of a given string.\n",
        "10.\tWrite a recursive Python function to check if a string is a palindrome.\n",
        "11.\tCreate a recursive Python function to generate all possible combinations of a list of elements.\n"
      ],
      "metadata": {
        "id": "eE--zjCTYbqi"
      }
    },
    {
      "cell_type": "markdown",
      "source": [
        "1.Explain the concept of recursion in Python. How does it differ from iteration?"
      ],
      "metadata": {
        "id": "puywGkcG_zbf"
      }
    },
    {
      "cell_type": "markdown",
      "source": [
        "Recursion in Python is a programming technique where a function calls itself to solve a problem by breaking it into smaller instances until a base case is reached. Iteration, on the other hand, uses loops to repeat a set of instructions. Recursion can lead to more readable code for certain problems but may have higher memory usage compared to iteration. The choice between recursion and iteration depends on the nature of the problem and performance considerations."
      ],
      "metadata": {
        "id": "uuuTb6K25X6q"
      }
    },
    {
      "cell_type": "markdown",
      "source": [
        "\n",
        "\n",
        "Recursion:"
      ],
      "metadata": {
        "id": "PCkqktI05c1E"
      }
    },
    {
      "cell_type": "code",
      "source": [
        "def factorial_recursive(n):\n",
        "    if n == 0 or n == 1:\n",
        "        return 1\n",
        "    else:\n",
        "        return n * factorial_recursive(n - 1)\n",
        "\n",
        "# Example usage:\n",
        "result_recursive = factorial_recursive(5)\n",
        "print(\"Factorial (recursive):\", result_recursive)\n"
      ],
      "metadata": {
        "colab": {
          "base_uri": "https://localhost:8080/"
        },
        "id": "RCm5txQ7_0F3",
        "outputId": "987b0cee-167d-4ea4-a220-1b763af10485"
      },
      "execution_count": null,
      "outputs": [
        {
          "output_type": "stream",
          "name": "stdout",
          "text": [
            "Factorial (recursive): 120\n"
          ]
        }
      ]
    },
    {
      "cell_type": "markdown",
      "source": [
        "Iteration"
      ],
      "metadata": {
        "id": "5lPUT86N5i-d"
      }
    },
    {
      "cell_type": "code",
      "source": [
        "def factorial_iterative(n):\n",
        "    result = 1\n",
        "    for i in range(1, n + 1):\n",
        "        result *= i\n",
        "    return result\n",
        "\n",
        "# Example usage:\n",
        "result_iterative = factorial_iterative(5)\n",
        "print(\"Factorial (iterative):\", result_iterative)\n"
      ],
      "metadata": {
        "colab": {
          "base_uri": "https://localhost:8080/"
        },
        "id": "-8eq5yy45lyL",
        "outputId": "4ccc7140-e868-4364-9da6-4ddeaa86755b"
      },
      "execution_count": null,
      "outputs": [
        {
          "output_type": "stream",
          "name": "stdout",
          "text": [
            "Factorial (iterative): 120\n"
          ]
        }
      ]
    },
    {
      "cell_type": "markdown",
      "source": [
        "2.Write a Python program to calculate the factorial of a number using recursion."
      ],
      "metadata": {
        "id": "pUnqvQg1_0ak"
      }
    },
    {
      "cell_type": "code",
      "source": [
        "def factorial(num):\n",
        "  if num<=1:\n",
        "    return 1\n",
        "  else:\n",
        "    return num*factorial(num-1)\n",
        "num = int(input(\"Enter the number you want to find the factorial: \"))\n",
        "print(f\"factorial of num '{num}' is equal to '{factorial(num)}'\")"
      ],
      "metadata": {
        "colab": {
          "base_uri": "https://localhost:8080/"
        },
        "id": "dKhf83rA_2yn",
        "outputId": "9579db5f-a044-4b17-dcb2-c642a19c5d0d"
      },
      "execution_count": null,
      "outputs": [
        {
          "output_type": "stream",
          "name": "stdout",
          "text": [
            "Enter the number you want to find the factorial: 5\n",
            "factorial of num '5' is equal to '120'\n"
          ]
        }
      ]
    },
    {
      "cell_type": "markdown",
      "source": [
        "3.Create a recursive Python function to find the nth Fibonacci number."
      ],
      "metadata": {
        "id": "qYAbbp8Y_3LN"
      }
    },
    {
      "cell_type": "code",
      "source": [
        "def fib(n):\n",
        "  if n==0:\n",
        "    return 0\n",
        "  if n==1:\n",
        "    return 1\n",
        "  else:\n",
        "    return fib(n-1)+fib(n-2)\n",
        "num = int(input(\"Enter the number of nth: \"))\n",
        "print(f\"the fibonacci of {num} is equal to : '{fib(num)}'\")"
      ],
      "metadata": {
        "colab": {
          "base_uri": "https://localhost:8080/"
        },
        "id": "0pJzijWF_7eO",
        "outputId": "701a35da-3a79-4c67-9aa6-5965b6b27688"
      },
      "execution_count": null,
      "outputs": [
        {
          "output_type": "stream",
          "name": "stdout",
          "text": [
            "Enter the number of nth: 7\n",
            "the fibonacci of 7 is equal to : '13'\n"
          ]
        }
      ]
    },
    {
      "cell_type": "markdown",
      "source": [
        "4.Write a recursive Python function to calculate the sum of all elements in a list."
      ],
      "metadata": {
        "id": "52RjcRvd_7xW"
      }
    },
    {
      "cell_type": "code",
      "source": [
        "def recursive_sum(lst):\n",
        "    if not lst:\n",
        "        return 0\n",
        "    else:\n",
        "        return lst[0] + recursive_sum(lst[1:])\n",
        "\n",
        "my_list = [1, 2, 3, 4, 5]\n",
        "result = recursive_sum(my_list)\n",
        "print(\"Sum of elements:\", result)\n"
      ],
      "metadata": {
        "colab": {
          "base_uri": "https://localhost:8080/"
        },
        "id": "YKU94NLw_-1F",
        "outputId": "d3fee7fa-3344-4e27-9ac2-b5bece77b649"
      },
      "execution_count": null,
      "outputs": [
        {
          "output_type": "stream",
          "name": "stdout",
          "text": [
            "Sum of elements: 15\n"
          ]
        }
      ]
    },
    {
      "cell_type": "markdown",
      "source": [
        "5.How can you prevent a recursive function from running indefinitely, causing a stack overflow error?"
      ],
      "metadata": {
        "id": "eGr0rvsW__XZ"
      }
    },
    {
      "cell_type": "markdown",
      "source": [
        "To prevent a recursive function from running indefinitely:\n",
        "\n",
        "Define a Base Case:\n",
        "\n",
        "Ensure your recursive function has a base case to terminate the recursion.\n",
        "Ensure Progress Toward Base Case:\n",
        "\n",
        "Each recursive call should move closer to the base case.\n",
        "Check Input Validity:\n",
        "\n",
        "Validate input parameters to prevent unexpected behavior.\n",
        "Example (Factorial Calculation):"
      ],
      "metadata": {
        "id": "pEZ4uOTb_wZk"
      }
    },
    {
      "cell_type": "code",
      "source": [
        "def factorial(n):\n",
        "    if n == 0 or n == 1:\n",
        "        return 1\n",
        "    else:\n",
        "        return n * factorial(n - 1)\n",
        "\n",
        "result = factorial(5)\n",
        "print(\"Factorial:\", result)\n"
      ],
      "metadata": {
        "colab": {
          "base_uri": "https://localhost:8080/"
        },
        "id": "FuSgiIVeAC7D",
        "outputId": "ab1b9729-853c-4d44-a70e-30fb46fea6c5"
      },
      "execution_count": null,
      "outputs": [
        {
          "output_type": "stream",
          "name": "stdout",
          "text": [
            "Factorial: 120\n"
          ]
        }
      ]
    },
    {
      "cell_type": "markdown",
      "source": [
        "6.Create a recursive Python function to find the greatest common divisor (GCD) of two numbers using the Euclidean algorithm."
      ],
      "metadata": {
        "id": "6tkBnMevADSm"
      }
    },
    {
      "cell_type": "code",
      "source": [
        "def euclidean_gcd(a, b):\n",
        "    if b == 0:\n",
        "        return a\n",
        "    else:\n",
        "        return euclidean_gcd(b, a % b)\n",
        "\n",
        "num1 = 48\n",
        "num2 = 18\n",
        "\n",
        "result_gcd = euclidean_gcd(num1, num2)\n",
        "print(f\"GCD of {num1} and {num2} is:\", result_gcd)\n"
      ],
      "metadata": {
        "colab": {
          "base_uri": "https://localhost:8080/"
        },
        "id": "pRgGUX8HAF7_",
        "outputId": "6e2f797e-14fe-4d60-86f5-3a91d4c16584"
      },
      "execution_count": null,
      "outputs": [
        {
          "output_type": "stream",
          "name": "stdout",
          "text": [
            "GCD of 48 and 18 is: 6\n"
          ]
        }
      ]
    },
    {
      "cell_type": "markdown",
      "source": [
        "7.Write a recursive Python function to reverse a string."
      ],
      "metadata": {
        "id": "p9eElfV3AGWm"
      }
    },
    {
      "cell_type": "code",
      "source": [
        "def reverse_string(input_str):\n",
        "    if len(input_str) <= 1:\n",
        "        return input_str\n",
        "    else:\n",
        "        return reverse_string(input_str[1:]) + input_str[0]\n",
        "\n",
        "original_str = \"Hello, World!\"\n",
        "reversed_str = reverse_string(original_str)\n",
        "print(f\"Original String: {original_str}\")\n",
        "print(f\"Reversed String: {reversed_str}\")\n"
      ],
      "metadata": {
        "colab": {
          "base_uri": "https://localhost:8080/"
        },
        "id": "7mX4kbvMAJGn",
        "outputId": "65e56c16-dc38-4cf2-a9d8-91b6b6e53bbd"
      },
      "execution_count": null,
      "outputs": [
        {
          "output_type": "stream",
          "name": "stdout",
          "text": [
            "Original String: Hello, World!\n",
            "Reversed String: !dlroW ,olleH\n"
          ]
        }
      ]
    },
    {
      "cell_type": "markdown",
      "source": [
        "8.Create a recursive Python function to calculate the power of a number (x^n)."
      ],
      "metadata": {
        "id": "_RNhWc9-AJVH"
      }
    },
    {
      "cell_type": "code",
      "source": [
        "def power(x, n):\n",
        "    if n == 0:\n",
        "        return 1\n",
        "    else:\n",
        "        return x * power(x, n - 1)\n",
        "\n",
        "base = 2\n",
        "exponent = 3\n",
        "\n",
        "result = power(base, exponent)\n",
        "print(f\"{base} raised to the power of {exponent} is: {result}\")\n"
      ],
      "metadata": {
        "colab": {
          "base_uri": "https://localhost:8080/"
        },
        "id": "Ts0LDH9zAVwt",
        "outputId": "db6efec4-269f-42b3-e79d-44758e56af8e"
      },
      "execution_count": null,
      "outputs": [
        {
          "output_type": "stream",
          "name": "stdout",
          "text": [
            "2 raised to the power of 3 is: 8\n"
          ]
        }
      ]
    },
    {
      "cell_type": "markdown",
      "source": [
        "9.Write a recursive Python function to find all permutations of a given string."
      ],
      "metadata": {
        "id": "X85qaQUeAWAC"
      }
    },
    {
      "cell_type": "code",
      "source": [
        "def get_permutations(s):\n",
        "    if len(s) == 1:\n",
        "        return [s]\n",
        "\n",
        "    permutations = []\n",
        "    for i in range(len(s)):\n",
        "        first_char = s[i]\n",
        "        remaining_chars = s[:i] + s[i+1:]\n",
        "        for perm in get_permutations(remaining_chars):\n",
        "            permutations.append(first_char + perm)\n",
        "\n",
        "    return permutations\n",
        "\n",
        "input_string = \"abc\"\n",
        "result_permutations = get_permutations(input_string)\n",
        "print(f\"All permutations of '{input_string}': {result_permutations}\")\n"
      ],
      "metadata": {
        "colab": {
          "base_uri": "https://localhost:8080/"
        },
        "id": "HeF0Mq6uAa1e",
        "outputId": "becca3ce-855a-4e1c-adc6-e1a4f538ac1a"
      },
      "execution_count": null,
      "outputs": [
        {
          "output_type": "stream",
          "name": "stdout",
          "text": [
            "All permutations of 'abc': ['abc', 'acb', 'bac', 'bca', 'cab', 'cba']\n"
          ]
        }
      ]
    },
    {
      "cell_type": "markdown",
      "source": [
        "10.Write a recursive Python function to check if a string is a palindrome."
      ],
      "metadata": {
        "id": "FwG5C6AyAbWu"
      }
    },
    {
      "cell_type": "code",
      "source": [
        "def is_palindrome(s):\n",
        "    s = s.lower()\n",
        "    if len(s) <= 1:\n",
        "        return True\n",
        "    elif s[0] == s[-1]:\n",
        "        return is_palindrome(s[1:-1])\n",
        "    else:\n",
        "        return False\n",
        "\n",
        "input_str = \"Madam\"\n",
        "result = is_palindrome(input_str)\n",
        "print(f\"Is '{input_str}' a palindrome? {result}\")\n"
      ],
      "metadata": {
        "colab": {
          "base_uri": "https://localhost:8080/"
        },
        "id": "lhEbH_xiAcXP",
        "outputId": "fec26963-be8b-4cb0-c05e-c096e19af876"
      },
      "execution_count": null,
      "outputs": [
        {
          "output_type": "stream",
          "name": "stdout",
          "text": [
            "Is 'Madam' a palindrome? True\n"
          ]
        }
      ]
    },
    {
      "cell_type": "markdown",
      "source": [
        "11.Create a recursive Python function to generate all possible combinations of a list of elements."
      ],
      "metadata": {
        "id": "eK6AB-McAc2X"
      }
    },
    {
      "cell_type": "code",
      "source": [
        "def get_combinations(elements):\n",
        "    if not elements:\n",
        "        return [[]]\n",
        "\n",
        "    current_element = elements[0]\n",
        "    rest_combinations = get_combinations(elements[1:])\n",
        "\n",
        "    combinations = []\n",
        "    for combination in rest_combinations:\n",
        "        combinations.append(combination)\n",
        "        combinations.append([current_element] + combination)\n",
        "\n",
        "    return combinations\n",
        "\n",
        "input_elements = [1, 2, 3]\n",
        "result_combinations = get_combinations(input_elements)\n",
        "print(f\"All combinations of {input_elements}: {result_combinations}\")\n"
      ],
      "metadata": {
        "colab": {
          "base_uri": "https://localhost:8080/"
        },
        "id": "lM8evSGQAgUK",
        "outputId": "b2709a6e-ed85-4745-9296-c03502ae4ad5"
      },
      "execution_count": null,
      "outputs": [
        {
          "output_type": "stream",
          "name": "stdout",
          "text": [
            "All combinations of [1, 2, 3]: [[], [1], [2], [1, 2], [3], [1, 3], [2, 3], [1, 2, 3]]\n"
          ]
        }
      ]
    },
    {
      "cell_type": "markdown",
      "source": [
        "**Basics of Functions:**"
      ],
      "metadata": {
        "id": "E6ZdpMDKYkui"
      }
    },
    {
      "cell_type": "markdown",
      "source": [
        "\n",
        "1.\tWhat is a function in Python, and why is it used?\n",
        "2.\tHow do you define a function in Python? Provide an example.\n",
        "3.\tExplain the difference between a function definition and a function call.\n",
        "4.\tWrite a Python program that defines a function to calculate the sum of two numbers and then calls the function.\n",
        "5.\tWhat is a function signature, and what information does it typically include?\n",
        "6.\tCreate a Python function that takes two arguments and returns their product.\n"
      ],
      "metadata": {
        "id": "rBnsZEx8YiDF"
      }
    },
    {
      "cell_type": "markdown",
      "source": [
        "1.What is a function in Python, and why is it used?"
      ],
      "metadata": {
        "id": "o5aQRaLpA8MK"
      }
    },
    {
      "cell_type": "markdown",
      "source": [
        "Ans:\n",
        "\n",
        "In Python, a function is a reusable block of code that performs a specific task. Functions allow you to break down your program into smaller, manageable pieces, making your code more organized, readable, and modular. Functions can be called multiple times from different parts of a program, promoting code reusability."
      ],
      "metadata": {
        "id": "VSC1nbQICkB-"
      }
    },
    {
      "cell_type": "code",
      "source": [
        "# Example...\n",
        "def greet(name):\n",
        "    \"\"\"This function greets the person passed in as a parameter.\"\"\"\n",
        "    print(f\"Hello, {name}!\")\n",
        "\n",
        "# Calling the function\n",
        "greet(\"John\")\n"
      ],
      "metadata": {
        "id": "y5EkY75oA9ez"
      },
      "execution_count": null,
      "outputs": []
    },
    {
      "cell_type": "markdown",
      "source": [
        "Functions provide several advantages, including:\n",
        "\n",
        "Modularity: Functions allow you to break down complex tasks into smaller, more manageable parts, making your code easier to understand and maintain.\n",
        "\n",
        "Reusability: Once a function is defined, it can be reused in different parts of your program or even in different programs, reducing redundancy and promoting a more efficient development process.\n",
        "\n",
        "Readability: Using functions makes your code more readable and organized, as each function encapsulates a specific piece of functionality.\n",
        "\n",
        "Testing and Debugging: Functions make it easier to test and debug your code since you can isolate and focus on individual units of functionality."
      ],
      "metadata": {
        "id": "lamoUEJkC4c0"
      }
    },
    {
      "cell_type": "markdown",
      "source": [
        "2.How do you define a function in Python? Provide an example."
      ],
      "metadata": {
        "id": "jZWi4F5eBBT0"
      }
    },
    {
      "cell_type": "code",
      "source": [
        "def add_numbers(a, b=0):\n",
        "    \"\"\"This function adds two numbers.\"\"\"\n",
        "    result = a + b\n",
        "    return result\n",
        "\n",
        "# Calling the function\n",
        "sum_result = add_numbers(5, 3)\n",
        "print(f\"The sum is: {sum_result}\")\n"
      ],
      "metadata": {
        "colab": {
          "base_uri": "https://localhost:8080/"
        },
        "id": "oR7rMHDiCueT",
        "outputId": "00fcfc03-836f-43e0-b772-deb7e37ae718"
      },
      "execution_count": null,
      "outputs": [
        {
          "output_type": "stream",
          "name": "stdout",
          "text": [
            "The sum is: 8\n"
          ]
        }
      ]
    },
    {
      "cell_type": "markdown",
      "source": [
        "3.Explain the difference between a function definition and a function call."
      ],
      "metadata": {
        "id": "tn9FMJs3BEPU"
      }
    },
    {
      "cell_type": "markdown",
      "source": [
        "Ans:\n",
        "\n",
        "Function Definition:\n",
        "\n",
        "What it is: A function definition is the process of creating a function and specifying its behavior. It involves using the def keyword in Python to define the function, along with a name, parameters (if any), and a code block that contains the statements to be executed when the function is called.\n"
      ],
      "metadata": {
        "id": "gSdLqjJjDGB2"
      }
    },
    {
      "cell_type": "code",
      "source": [
        "def greet(name):\n",
        "    \"\"\"This function greets the person passed in as a parameter.\"\"\"\n",
        "    print(f\"Hello, {name}!\")"
      ],
      "metadata": {
        "id": "osCKCKEuDKWg"
      },
      "execution_count": null,
      "outputs": []
    },
    {
      "cell_type": "markdown",
      "source": [
        "Function Call:\n",
        "\n",
        "What it is: A function call, also known as invoking or running a function, is the act of actually using the function that has been defined. It involves using the function name followed by parentheses containing the arguments (if any) that the function expects."
      ],
      "metadata": {
        "id": "IqneClL1DQ9f"
      }
    },
    {
      "cell_type": "code",
      "source": [
        "greet(\"John\")"
      ],
      "metadata": {
        "colab": {
          "base_uri": "https://localhost:8080/"
        },
        "id": "CajGR4o5DUTu",
        "outputId": "ec5ae78c-100d-440d-959e-66ad5250499f"
      },
      "execution_count": null,
      "outputs": [
        {
          "output_type": "stream",
          "name": "stdout",
          "text": [
            "Hello, John!\n"
          ]
        }
      ]
    },
    {
      "cell_type": "markdown",
      "source": [
        "4.Write a Python program that defines a function to calculate the sum of two numbers and then calls the function."
      ],
      "metadata": {
        "id": "lsEjTn4DBHyr"
      }
    },
    {
      "cell_type": "code",
      "source": [
        "def calculate_sum(a, b):\n",
        "    result = a + b\n",
        "    return result\n",
        "\n",
        "num1 = 5\n",
        "num2 = 7\n",
        "sum_result = calculate_sum(num1, num2)\n",
        "\n",
        "print(f\"The sum of {num1} and {num2} is: {sum_result}\")\n"
      ],
      "metadata": {
        "colab": {
          "base_uri": "https://localhost:8080/"
        },
        "id": "PUL9kRHGDYXF",
        "outputId": "192e84f9-7d9a-4340-a84b-0176684ccc42"
      },
      "execution_count": null,
      "outputs": [
        {
          "output_type": "stream",
          "name": "stdout",
          "text": [
            "The sum of 5 and 7 is: 12\n"
          ]
        }
      ]
    },
    {
      "cell_type": "markdown",
      "source": [
        "5.What is a function signature, and what information does it typically include?"
      ],
      "metadata": {
        "id": "bRN_z18dBI6_"
      }
    },
    {
      "cell_type": "markdown",
      "source": [
        "Ans:\n",
        "\n",
        "A function signature typically includes the function name, parameter types and names, return type, and may specify exceptional cases. It serves as a concise summary of a function's interface and behavior, aiding in documentation and understanding."
      ],
      "metadata": {
        "id": "4SjtSxW2D4am"
      }
    },
    {
      "cell_type": "code",
      "source": [
        "def calculate_sum(a: int, b: int) -> int:\n",
        "    \"\"\"\n",
        "    This function calculates the sum of two integers.\n",
        "\n",
        "    Parameters:\n",
        "    - a (int): The first integer.\n",
        "    - b (int): The second integer.\n",
        "\n",
        "    Returns:\n",
        "    int: The sum of the two integers.\n",
        "    \"\"\"\n",
        "    result = a + b\n",
        "    return result\n"
      ],
      "metadata": {
        "id": "2uBsPYLOD7Zd"
      },
      "execution_count": null,
      "outputs": []
    },
    {
      "cell_type": "markdown",
      "source": [
        "6.Create a Python function that takes two arguments and returns their product."
      ],
      "metadata": {
        "id": "CveolQ96BNoX"
      }
    },
    {
      "cell_type": "code",
      "source": [
        "def calculate_product(a, b):\n",
        "    result = a * b\n",
        "    return result\n",
        "\n",
        "num1 = 4\n",
        "num2 = 6\n",
        "product_result = calculate_product(num1, num2)\n",
        "\n",
        "print(f\"The product of {num1} and {num2} is: {product_result}\")\n"
      ],
      "metadata": {
        "colab": {
          "base_uri": "https://localhost:8080/"
        },
        "id": "VOoIirLhBO78",
        "outputId": "f28cc390-9e10-4305-e632-5b09eb0b9c0d"
      },
      "execution_count": null,
      "outputs": [
        {
          "output_type": "stream",
          "name": "stdout",
          "text": [
            "The product of 4 and 6 is: 24\n"
          ]
        }
      ]
    },
    {
      "cell_type": "markdown",
      "source": [
        "**Function Parameters and Arguments:**"
      ],
      "metadata": {
        "id": "709FwuKXYsfV"
      }
    },
    {
      "cell_type": "markdown",
      "source": [
        "1.\tExplain the concepts of formal parameters and actual arguments in Python functions.\n",
        "2.\tWrite a Python program that defines a function with default argument values.\n",
        "3.\tHow do you use keyword arguments in Python function calls? Provide an example.\n",
        "4.\tCreate a Python function that accepts a variable number of arguments and calculates their sum.\n",
        "5.\tWhat is the purpose of the `*args` and `**kwargs` syntax in function parameter lists?\n"
      ],
      "metadata": {
        "id": "aFCFDOBOYoTG"
      }
    },
    {
      "cell_type": "markdown",
      "source": [
        "1.Explain the concepts of formal parameters and actual arguments in Python functions."
      ],
      "metadata": {
        "id": "AHj87uEYBRBi"
      }
    },
    {
      "cell_type": "markdown",
      "source": [
        "Ans:\n",
        "\n",
        "Formal Parameters: Variables declared in the function signature, serving as placeholders for input values."
      ],
      "metadata": {
        "id": "hGVw_ZOQEXy8"
      }
    },
    {
      "cell_type": "code",
      "source": [
        "def add_numbers(x, y):\n",
        "    result = x + y\n",
        "    return result\n"
      ],
      "metadata": {
        "id": "leEvm9poEZV6"
      },
      "execution_count": null,
      "outputs": []
    },
    {
      "cell_type": "markdown",
      "source": [
        "Actual Arguments: Real values or expressions provided during a function call, substituting the formal parameters.\n"
      ],
      "metadata": {
        "id": "VH5pG_c8Ediv"
      }
    },
    {
      "cell_type": "code",
      "source": [
        "result = add_numbers(3, 5)"
      ],
      "metadata": {
        "id": "rwbEdA0SEhZB"
      },
      "execution_count": null,
      "outputs": []
    },
    {
      "cell_type": "markdown",
      "source": [
        "2.Write a Python program that defines a function with default argument values."
      ],
      "metadata": {
        "id": "7rXfq6GeBUPq"
      }
    },
    {
      "cell_type": "code",
      "source": [
        "def greet(name, greeting=\"Hello\"):\n",
        "    print(f\"{greeting}, {name}!\")\n",
        "\n",
        "greet(\"Rupesh\")\n",
        "greet(\"Rahul\", \"Good morning\")\n"
      ],
      "metadata": {
        "colab": {
          "base_uri": "https://localhost:8080/"
        },
        "id": "wjibBr8IEmrF",
        "outputId": "684a84be-17fc-4994-f370-93ca2d061e8e"
      },
      "execution_count": null,
      "outputs": [
        {
          "output_type": "stream",
          "name": "stdout",
          "text": [
            "Hello, Rupesh!\n",
            "Good morning, Rahul!\n"
          ]
        }
      ]
    },
    {
      "cell_type": "markdown",
      "source": [
        "3.How do you use keyword arguments in Python function calls? Provide an example."
      ],
      "metadata": {
        "id": "Mcsgv7r5BWhT"
      }
    },
    {
      "cell_type": "markdown",
      "source": [
        "Ans:\n",
        "\n",
        "In Python, keyword arguments allow you to pass values to a function by explicitly specifying the parameter names along with their corresponding values during the function call. This provides more clarity and flexibility, especially when dealing with functions that have multiple parameters."
      ],
      "metadata": {
        "id": "rg_8_JJEE97Q"
      }
    },
    {
      "cell_type": "code",
      "source": [
        "def greet(name, greeting=\"Hello\", punctuation=\".\"):\n",
        "    full_greeting = f\"{greeting}, {name}{punctuation}\"\n",
        "    print(full_greeting)\n",
        "\n",
        "greet(name=\"Rupesh\", greeting=\"Hi\", punctuation=\"!\")\n",
        "greet(\"Rakesh\", punctuation=\"?\")\n",
        "greet(\"Rahul\")\n"
      ],
      "metadata": {
        "colab": {
          "base_uri": "https://localhost:8080/"
        },
        "id": "SidxNFaYE_Hr",
        "outputId": "a4f276c2-a3f2-4900-f6a1-466b507ee693"
      },
      "execution_count": null,
      "outputs": [
        {
          "output_type": "stream",
          "name": "stdout",
          "text": [
            "Hi, Rupesh!\n",
            "Hello, Rakesh?\n",
            "Hello, Rahul.\n"
          ]
        }
      ]
    },
    {
      "cell_type": "markdown",
      "source": [
        "4.Create a Python function that accepts a variable number of arguments and calculates their sum."
      ],
      "metadata": {
        "id": "mkddJjJ3BYYy"
      }
    },
    {
      "cell_type": "code",
      "source": [
        "def calculate_sum(*args):\n",
        "    result = sum(args)\n",
        "    return result\n",
        "\n",
        "sum_result = calculate_sum(1, 2, 3, 4, 5)\n",
        "\n",
        "print(f\"The sum is: {sum_result}\")\n"
      ],
      "metadata": {
        "colab": {
          "base_uri": "https://localhost:8080/"
        },
        "id": "yYPLx96hFVvn",
        "outputId": "6fa499cf-56b4-4050-f400-de2ed49ab44f"
      },
      "execution_count": null,
      "outputs": [
        {
          "output_type": "stream",
          "name": "stdout",
          "text": [
            "The sum is: 15\n"
          ]
        }
      ]
    },
    {
      "cell_type": "markdown",
      "source": [
        "5.What is the purpose of the *args and **kwargs syntax in function parameter lists?"
      ],
      "metadata": {
        "id": "jd0eJoe6BbNL"
      }
    },
    {
      "cell_type": "markdown",
      "source": [
        "Ans:\n",
        "\n",
        "*args (Arbitrary Positional Arguments):\n",
        "\n",
        "Collects any number of positional arguments into a tuple.\n",
        "Allows a function to handle a variable number of positional arguments."
      ],
      "metadata": {
        "id": "kreIuYWDFW3N"
      }
    },
    {
      "cell_type": "code",
      "source": [
        "def example_function(*args):\n",
        "    # args is a tuple containing all positional arguments\n",
        "    for arg in args:\n",
        "        print(arg)\n",
        "\n",
        "example_function(1, 2, 3, \"four\")\n"
      ],
      "metadata": {
        "colab": {
          "base_uri": "https://localhost:8080/"
        },
        "id": "A4ahBtGmFjrK",
        "outputId": "580417b5-c20a-43c8-8d5c-e14838004c21"
      },
      "execution_count": null,
      "outputs": [
        {
          "output_type": "stream",
          "name": "stdout",
          "text": [
            "1\n",
            "2\n",
            "3\n",
            "four\n"
          ]
        }
      ]
    },
    {
      "cell_type": "markdown",
      "source": [
        "Ans:\n",
        "\n",
        "**kwargs (Arbitrary Keyword Arguments):\n",
        "\n",
        "Collects any number of keyword arguments into a dictionary.\n",
        "Allows a function to handle a variable number of keyword arguments."
      ],
      "metadata": {
        "id": "x-0NXLp9FrOZ"
      }
    },
    {
      "cell_type": "code",
      "source": [
        "def example_function(**kwargs):\n",
        "    # kwargs is a dictionary containing all keyword arguments\n",
        "    for key, value in kwargs.items():\n",
        "        print(f\"{key}: {value}\")\n",
        "\n",
        "example_function(name=\"John\", age=25, city=\"New York\")\n"
      ],
      "metadata": {
        "colab": {
          "base_uri": "https://localhost:8080/"
        },
        "id": "tObxxoA3FslO",
        "outputId": "4bda43d1-834b-40ea-f805-42068b61dd3e"
      },
      "execution_count": null,
      "outputs": [
        {
          "output_type": "stream",
          "name": "stdout",
          "text": [
            "name: John\n",
            "age: 25\n",
            "city: New York\n"
          ]
        }
      ]
    },
    {
      "cell_type": "markdown",
      "source": [],
      "metadata": {
        "id": "7zeydMvQFoH-"
      }
    },
    {
      "cell_type": "code",
      "source": [],
      "metadata": {
        "id": "bNYTFBGWYoF8"
      },
      "execution_count": null,
      "outputs": []
    },
    {
      "cell_type": "markdown",
      "source": [
        "**Return Values and Scoping:**"
      ],
      "metadata": {
        "id": "v2M-JefiYz-j"
      }
    },
    {
      "cell_type": "markdown",
      "source": [
        "1.\tDescribe the role of the `return` statement in Python functions and provide examples.\n",
        "2.\tExplain the concept of variable scope in Python, including local and global variables.\n",
        "3.\tWrite a Python program that demonstrates the use of global variables within functions.\n",
        "4.\tCreate a Python function that calculates the factorial of a number and returns it.\n",
        "5.\tHow can you access variables defined outside a function from within the function?\n"
      ],
      "metadata": {
        "id": "_07TgjIbYwOJ"
      }
    },
    {
      "cell_type": "markdown",
      "source": [
        "1.Describe the role of the return statement in Python functions and provide examples."
      ],
      "metadata": {
        "id": "SnNFl_1EBgRy"
      }
    },
    {
      "cell_type": "markdown",
      "source": [
        "In Python functions, the return statement is used to indicate the value that the function should output or return to the caller. When a return statement is encountered, the function execution stops, and the specified value is sent back to the caller. If no return statement is used, the function implicitly returns None by default."
      ],
      "metadata": {
        "id": "QIpin6dsGAFe"
      }
    },
    {
      "cell_type": "code",
      "source": [
        "def add_numbers(a, b):\n",
        "    result = a + b\n",
        "    return result\n",
        "\n",
        "sum_result = add_numbers(3, 5)\n",
        "print(f\"The sum is: {sum_result}\")\n"
      ],
      "metadata": {
        "colab": {
          "base_uri": "https://localhost:8080/"
        },
        "id": "0o9DMrxxGBNc",
        "outputId": "3df08805-508d-4a01-ecdc-b30729d05c0a"
      },
      "execution_count": null,
      "outputs": [
        {
          "output_type": "stream",
          "name": "stdout",
          "text": [
            "The sum is: 8\n"
          ]
        }
      ]
    },
    {
      "cell_type": "code",
      "source": [],
      "metadata": {
        "id": "qWH2rrB0F0_E"
      },
      "execution_count": null,
      "outputs": []
    },
    {
      "cell_type": "markdown",
      "source": [
        "2.Explain the concept of variable scope in Python, including local and global variables."
      ],
      "metadata": {
        "id": "eeOnGATiBhba"
      }
    },
    {
      "cell_type": "markdown",
      "source": [
        "ans:\n",
        "\n",
        "Local Scope:\n",
        "\n",
        "Variables defined inside a function.\n",
        "Accessible only within that function.\n",
        "Created when the function is called and destroyed when it exits."
      ],
      "metadata": {
        "id": "01o-zl_yGXE0"
      }
    },
    {
      "cell_type": "code",
      "source": [
        "def example_function():\n",
        "    local_variable = 42\n",
        "    print(local_variable)\n",
        "\n",
        "example_function()\n",
        "\n"
      ],
      "metadata": {
        "colab": {
          "base_uri": "https://localhost:8080/"
        },
        "id": "eRA1sQPgGYla",
        "outputId": "cdc9f6ac-f096-4a05-d22e-532fdfa2b62c"
      },
      "execution_count": null,
      "outputs": [
        {
          "output_type": "stream",
          "name": "stdout",
          "text": [
            "42\n"
          ]
        }
      ]
    },
    {
      "cell_type": "markdown",
      "source": [
        "Global Scope:\n",
        "\n",
        "Variables defined outside any function or at the module level.\n",
        "Accessible throughout the entire program.\n",
        "Requires the global keyword for modifications within functions."
      ],
      "metadata": {
        "id": "UmnzgZ87Gfcr"
      }
    },
    {
      "cell_type": "code",
      "source": [
        "global_variable = 100\n",
        "\n",
        "def example_function():\n",
        "    print(global_variable)\n",
        "\n",
        "example_function()\n",
        "print(global_variable)\n"
      ],
      "metadata": {
        "colab": {
          "base_uri": "https://localhost:8080/"
        },
        "id": "n8ACMDNGGgTF",
        "outputId": "8292640e-8901-4ac6-c809-986707185469"
      },
      "execution_count": null,
      "outputs": [
        {
          "output_type": "stream",
          "name": "stdout",
          "text": [
            "100\n",
            "100\n"
          ]
        }
      ]
    },
    {
      "cell_type": "markdown",
      "source": [
        "3.Write a Python program that demonstrates the use of global variables within functions."
      ],
      "metadata": {
        "id": "yG7FboN9BlyR"
      }
    },
    {
      "cell_type": "code",
      "source": [
        "global_variable = 100\n",
        "\n",
        "def modify_global_variable():\n",
        "    global global_variable\n",
        "    print(\"Global Variable (inside the function, before modification):\", global_variable)\n",
        "\n",
        "    global_variable += 50\n",
        "\n",
        "    print(\"Global Variable (inside the function, after modification):\", global_variable)\n",
        "\n",
        "modify_global_variable()\n",
        "\n",
        "print(\"Global Variable (outside the function):\", global_variable)\n"
      ],
      "metadata": {
        "colab": {
          "base_uri": "https://localhost:8080/"
        },
        "id": "ZmZvDh02Gkzw",
        "outputId": "524a93eb-b8cd-4d18-b68d-6787fe5cbf04"
      },
      "execution_count": null,
      "outputs": [
        {
          "output_type": "stream",
          "name": "stdout",
          "text": [
            "Global Variable (inside the function, before modification): 100\n",
            "Global Variable (inside the function, after modification): 150\n",
            "Global Variable (outside the function): 150\n"
          ]
        }
      ]
    },
    {
      "cell_type": "markdown",
      "source": [
        "4.Create a Python function that calculates the factorial of a number and returns it."
      ],
      "metadata": {
        "id": "NjWFCPNOBt2i"
      }
    },
    {
      "cell_type": "code",
      "source": [
        "def calculate_factorial(n):\n",
        "    if n == 0 or n == 1:\n",
        "        return 1\n",
        "    else:\n",
        "        result = 1\n",
        "        for i in range(2, n + 1):\n",
        "            result *= i\n",
        "        return result\n",
        "\n",
        "number = 5\n",
        "factorial_result = calculate_factorial(number)\n",
        "\n",
        "print(f\"The factorial of {number} is: {factorial_result}\")\n"
      ],
      "metadata": {
        "colab": {
          "base_uri": "https://localhost:8080/"
        },
        "id": "9uJl54YAG8Qq",
        "outputId": "f64f8161-7a38-43de-f6c4-e8b3ebad3c0d"
      },
      "execution_count": null,
      "outputs": [
        {
          "output_type": "stream",
          "name": "stdout",
          "text": [
            "The factorial of 5 is: 120\n"
          ]
        }
      ]
    },
    {
      "cell_type": "markdown",
      "source": [
        "5.How can you access variables defined outside a function from within the function?"
      ],
      "metadata": {
        "id": "0SnS4MsCBzNO"
      }
    },
    {
      "cell_type": "markdown",
      "source": [
        "Ans:\n",
        "\n",
        "Reading the value of a global variable:\n",
        "\n",
        "Simply reference the global variable within the function without using global."
      ],
      "metadata": {
        "id": "8ppvVqwCHQLT"
      }
    },
    {
      "cell_type": "code",
      "source": [
        "global_variable = 42\n",
        "\n",
        "def read_global_variable():\n",
        "    print(\"Value of global variable inside the function:\", global_variable)\n",
        "\n",
        "read_global_variable()\n"
      ],
      "metadata": {
        "colab": {
          "base_uri": "https://localhost:8080/"
        },
        "id": "O63ncgKQHRc3",
        "outputId": "a0158a01-20e2-4570-deaa-af6e425bd7c0"
      },
      "execution_count": null,
      "outputs": [
        {
          "output_type": "stream",
          "name": "stdout",
          "text": [
            "Value of global variable inside the function: 42\n"
          ]
        }
      ]
    },
    {
      "cell_type": "markdown",
      "source": [
        "Modifying the value of a global variable:\n",
        "\n",
        "Use the global keyword before the variable name inside the function to indicate that you are modifying the global variable, not creating a new local variable."
      ],
      "metadata": {
        "id": "97mgkQiVHVjA"
      }
    },
    {
      "cell_type": "code",
      "source": [
        "global_variable = 42\n",
        "\n",
        "def modify_global_variable():\n",
        "    global global_variable\n",
        "    global_variable += 10\n",
        "    print(\"Modified value of global variable inside the function:\", global_variable)\n",
        "\n",
        "modify_global_variable()\n",
        "print(\"Value of global variable outside the function:\", global_variable)\n"
      ],
      "metadata": {
        "colab": {
          "base_uri": "https://localhost:8080/"
        },
        "id": "4RQ_ntI6HFX5",
        "outputId": "987f03d3-84df-4603-f48b-65c960c6d430"
      },
      "execution_count": null,
      "outputs": [
        {
          "output_type": "stream",
          "name": "stdout",
          "text": [
            "Modified value of global variable inside the function: 52\n",
            "Value of global variable outside the function: 52\n"
          ]
        }
      ]
    },
    {
      "cell_type": "markdown",
      "source": [
        "**Lambda Functions and Higher-Order Functions:**"
      ],
      "metadata": {
        "id": "j4mbpRoJY6ui"
      }
    },
    {
      "cell_type": "markdown",
      "source": [
        "1.\tWhat are lambda functions in Python, and when are they typically used?\n",
        "2.\tWrite a Python program that uses lambda functions to sort a list of tuples based on the second element.\n",
        "3.\tExplain the concept of higher-order functions in Python, and provide an example.\n",
        "4.\tCreate a Python function that takes a list of numbers and a function as arguments, applying the function to each element in the list.\n"
      ],
      "metadata": {
        "id": "nwqv0-8lY3hh"
      }
    },
    {
      "cell_type": "code",
      "source": [],
      "metadata": {
        "id": "hGe0lXe-ZAZl"
      },
      "execution_count": null,
      "outputs": []
    },
    {
      "cell_type": "markdown",
      "source": [
        "1.What are lambda functions in Python, and when are they typically used?"
      ],
      "metadata": {
        "id": "nSOjj4DgB2v3"
      }
    },
    {
      "cell_type": "markdown",
      "source": [
        "Ans:\n",
        "\n",
        "Lambda Functions in Python:\n",
        "\n",
        "Lambda functions, also known as anonymous functions, are small, unnamed functions defined using the lambda keyword in Python.\n",
        "They are typically used for short, simple operations where a full function definition is not necessary.\n",
        "Lambda functions can take any number of arguments but can only have one expression."
      ],
      "metadata": {
        "id": "3t-FXoEeMw11"
      }
    },
    {
      "cell_type": "markdown",
      "source": [
        "2.Write a Python program that uses lambda functions to sort a list of tuples based on the second element."
      ],
      "metadata": {
        "id": "IFICZTlgB5TB"
      }
    },
    {
      "cell_type": "code",
      "source": [
        "# Sample list of tuples\n",
        "tuples_list = [(1, 5), (3, 2), (8, 10), (5, 1)]\n",
        "\n",
        "sorted_list = sorted(tuples_list, key=lambda x: x[1])\n",
        "\n",
        "print(sorted_list)\n"
      ],
      "metadata": {
        "colab": {
          "base_uri": "https://localhost:8080/"
        },
        "id": "S4-2ciY7M0qj",
        "outputId": "783a68d2-396d-4113-979d-679642ef51d3"
      },
      "execution_count": 24,
      "outputs": [
        {
          "output_type": "stream",
          "name": "stdout",
          "text": [
            "[(5, 1), (3, 2), (1, 5), (8, 10)]\n"
          ]
        }
      ]
    },
    {
      "cell_type": "markdown",
      "source": [
        "3.Explain the concept of higher-order functions in Python, and provide an example."
      ],
      "metadata": {
        "id": "9NUMDuW1B7R6"
      }
    },
    {
      "cell_type": "code",
      "source": [
        "# Example of a higher-order function\n",
        "def operate_on_list(numbers, operation):\n",
        "    return [operation(num) for num in numbers]\n",
        "\n",
        "numbers = [1, 2, 3, 4, 5]\n",
        "squared_numbers = operate_on_list(numbers, lambda x: x**2)\n",
        "\n",
        "print(squared_numbers)\n"
      ],
      "metadata": {
        "colab": {
          "base_uri": "https://localhost:8080/"
        },
        "id": "pckZLco1M5IN",
        "outputId": "ade28c3b-a5c5-49ba-8457-d8f6b3bb50eb"
      },
      "execution_count": 25,
      "outputs": [
        {
          "output_type": "stream",
          "name": "stdout",
          "text": [
            "[1, 4, 9, 16, 25]\n"
          ]
        }
      ]
    },
    {
      "cell_type": "markdown",
      "source": [
        "4.Create a Python function that takes a list of numbers and a function as arguments, applying the function to each element in the list."
      ],
      "metadata": {
        "id": "rDwqxv0PB-SV"
      }
    },
    {
      "cell_type": "code",
      "source": [
        "def apply_function_to_list(numbers, custom_function):\n",
        "    return [custom_function(num) for num in numbers]\n",
        "\n",
        "numbers = [2, 4, 6, 8, 10]\n",
        "doubled_numbers = apply_function_to_list(numbers, lambda x: x * 2)\n",
        "\n",
        "print(doubled_numbers)\n"
      ],
      "metadata": {
        "id": "3tOIe6ThB_aY",
        "colab": {
          "base_uri": "https://localhost:8080/"
        },
        "outputId": "5d67e873-d3aa-4b30-e452-51e0281d88c0"
      },
      "execution_count": 26,
      "outputs": [
        {
          "output_type": "stream",
          "name": "stdout",
          "text": [
            "[4, 8, 12, 16, 20]\n"
          ]
        }
      ]
    },
    {
      "cell_type": "markdown",
      "source": [
        "**Built-in Functions:**"
      ],
      "metadata": {
        "id": "LgtgMDXgZDeL"
      }
    },
    {
      "cell_type": "markdown",
      "source": [
        "1.\tDescribe the role of built-in functions like `len()`, `max()`, and `min()` in Python.\n",
        "2.\tWrite a Python program that uses the `map()` function to apply a function to each element of a list.\n",
        "3.\tHow does the `filter()` function work in Python, and when would you use it?\n",
        "4.\tCreate a Python program that uses the `reduce()` function to find the product of all elements in a list.\n"
      ],
      "metadata": {
        "id": "2dlHaIKFZAtF"
      }
    },
    {
      "cell_type": "markdown",
      "source": [
        "1.Describe the role of built-in functions like len(), max(), and min() in Python."
      ],
      "metadata": {
        "id": "FQ8oW7vPCBNy"
      }
    },
    {
      "cell_type": "markdown",
      "source": [
        "Role of Built-in Functions:\n",
        "\n",
        "len(): Returns the length (number of items) of an object, such as a string, list, or tuple.\n",
        "\n",
        "max(): Returns the largest item in an iterable or the largest of two or more arguments.\n",
        "\n",
        "min(): Returns the smallest item in an iterable or the smallest of two or more arguments.\n",
        "\n",
        "These functions are built into Python and provide convenient ways to perform common operations."
      ],
      "metadata": {
        "id": "n9yyPDUoNIX2"
      }
    },
    {
      "cell_type": "markdown",
      "source": [
        "2.Write a Python program that uses the map() function to apply a function to each element of a list."
      ],
      "metadata": {
        "id": "TVt6Kk0ACDit"
      }
    },
    {
      "cell_type": "code",
      "source": [
        "# Example: Squaring each element in a list using map\n",
        "numbers = [1, 2, 3, 4, 5]\n",
        "\n",
        "squared_numbers = list(map(lambda x: x**2, numbers))\n",
        "\n",
        "print(squared_numbers)\n"
      ],
      "metadata": {
        "colab": {
          "base_uri": "https://localhost:8080/"
        },
        "id": "e8Zsh-KENRSF",
        "outputId": "10134688-2abe-4a3f-ec6e-9ef74eed20f2"
      },
      "execution_count": 27,
      "outputs": [
        {
          "output_type": "stream",
          "name": "stdout",
          "text": [
            "[1, 4, 9, 16, 25]\n"
          ]
        }
      ]
    },
    {
      "cell_type": "markdown",
      "source": [
        "3.How does the filter() function work in Python, and when would you use it?"
      ],
      "metadata": {
        "id": "okTOUn-jCGcD"
      }
    },
    {
      "cell_type": "code",
      "source": [
        "numbers = [1, 2, 3, 4, 5, 6, 7, 8, 9]\n",
        "\n",
        "filtered_numbers = list(filter(lambda x: x % 2 != 0, numbers))\n",
        "\n",
        "print(filtered_numbers)\n"
      ],
      "metadata": {
        "colab": {
          "base_uri": "https://localhost:8080/"
        },
        "id": "mWpNI6mwNUbE",
        "outputId": "6cb55266-2e72-49a2-99ce-9b27b2092e81"
      },
      "execution_count": 28,
      "outputs": [
        {
          "output_type": "stream",
          "name": "stdout",
          "text": [
            "[1, 3, 5, 7, 9]\n"
          ]
        }
      ]
    },
    {
      "cell_type": "markdown",
      "source": [
        "4.Create a Python program that uses the reduce() function to find the product of all elements in a list."
      ],
      "metadata": {
        "id": "8IBWrE7PCIZ1"
      }
    },
    {
      "cell_type": "code",
      "source": [
        "from functools import reduce\n",
        "\n",
        "numbers = [2, 3, 4, 5]\n",
        "\n",
        "product = reduce(lambda x, y: x * y, numbers)\n",
        "\n",
        "print(product)\n"
      ],
      "metadata": {
        "colab": {
          "base_uri": "https://localhost:8080/"
        },
        "id": "pUxKARlHNXyT",
        "outputId": "a8231cbf-874b-4fbe-aae8-43a4250d1b00"
      },
      "execution_count": 29,
      "outputs": [
        {
          "output_type": "stream",
          "name": "stdout",
          "text": [
            "120\n"
          ]
        }
      ]
    },
    {
      "cell_type": "markdown",
      "source": [
        "\n",
        "**Function Documentation and Best Practices:**"
      ],
      "metadata": {
        "id": "7ZgWW5KAZJAv"
      }
    },
    {
      "cell_type": "markdown",
      "source": [
        "1.\tExplain the purpose of docstrings in Python functions and how to write them.\n",
        "2.\tDescribe some best practices for naming functions and variables in Python, including naming conventions and guidelines.\n"
      ],
      "metadata": {
        "id": "WlUh1H9oZGY8"
      }
    },
    {
      "cell_type": "markdown",
      "source": [
        "1.Explain the purpose of docstrings in Python functions and how to write them."
      ],
      "metadata": {
        "id": "QAFsEZqTCLCp"
      }
    },
    {
      "cell_type": "markdown",
      "source": [
        "Ans:\n",
        "\n",
        "\n",
        "Docstrings in Python Functions:\n",
        "\n",
        "1.Docstrings (documentation strings) are used to document Python modules, classes, and functions.\n",
        "\n",
        "2.The purpose is to provide information about the purpose, usage, and parameters of the function, making it easier for developers to understand and use the code.\n",
        "\n",
        "3.A docstring is a string literal that occurs as the first statement in a module, class, or function definition."
      ],
      "metadata": {
        "id": "PDzEDKvRNkF1"
      }
    },
    {
      "cell_type": "code",
      "source": [
        "def example_function(arg1, arg2):\n",
        "    \"\"\"\n",
        "    This is a docstring for the example_function.\n",
        "\n",
        "    Parameters:\n",
        "    - arg1: Description of arg1.\n",
        "    - arg2: Description of arg2.\n",
        "\n",
        "    Returns:\n",
        "    Description of the return value.\n",
        "    \"\"\"\n",
        "    # Function code here\n",
        "    return result\n",
        "\n",
        "help(example_function)\n",
        "\n",
        "print(example_function.__doc__)\n"
      ],
      "metadata": {
        "id": "uMqoOrmKCMic",
        "colab": {
          "base_uri": "https://localhost:8080/"
        },
        "outputId": "fbfc2903-36de-45e1-a1ee-e1de82430bae"
      },
      "execution_count": 30,
      "outputs": [
        {
          "output_type": "stream",
          "name": "stdout",
          "text": [
            "Help on function example_function in module __main__:\n",
            "\n",
            "example_function(arg1, arg2)\n",
            "    This is a docstring for the example_function.\n",
            "    \n",
            "    Parameters:\n",
            "    - arg1: Description of arg1.\n",
            "    - arg2: Description of arg2.\n",
            "    \n",
            "    Returns:\n",
            "    Description of the return value.\n",
            "\n",
            "\n",
            "    This is a docstring for the example_function.\n",
            "\n",
            "    Parameters:\n",
            "    - arg1: Description of arg1.\n",
            "    - arg2: Description of arg2.\n",
            "\n",
            "    Returns:\n",
            "    Description of the return value.\n",
            "    \n"
          ]
        }
      ]
    },
    {
      "cell_type": "markdown",
      "source": [
        "2.Describe some best practices for naming functions and variables in Python, including naming conventions and guidelines."
      ],
      "metadata": {
        "id": "SWfw4i8_CM-y"
      }
    },
    {
      "cell_type": "markdown",
      "source": [
        "Ans:\n",
        "\n",
        "\n",
        "1.Descriptive Names:\n",
        "Use names that clearly convey the purpose of the function or variable.\n",
        "\n",
        "\n",
        "2.Snake Case:\n",
        "For functions and variables, use \"snake_case\" (e.g., my_function,\n",
        "variable_name).\n",
        "\n",
        "3.Camel Case for Classes:\n",
        "Use CamelCase for class names (e.g., MyClass).\n",
        "\n",
        "4.Constants in Uppercase:\n",
        "Use uppercase letters with underscores for constants (e.g., MAX_VALUE).\n",
        "\n",
        "5.Avoid Ambiguity:\n",
        "Choose names that are not easily confused (e.g., avoid single-character names).\n",
        "\n",
        "\n",
        "6.Follow PEP 8:\n",
        "Adhere to the PEP 8 style guide for naming conventions and code style.\n",
        "\n",
        "7.Be Consistent:\n",
        "Maintain consistency in naming across your codebase.\n",
        "\n",
        "8.Use Meaningful Names:\n",
        "Opt for meaningful names over abbreviations.\n",
        "\n",
        "9.Understandable Abbreviations:\n",
        "If using abbreviations, ensure they are widely understood and won't cause confusion.\n",
        "\n",
        "10.Documentation with Docstrings:\n",
        "Include clear and concise docstrings to describe the purpose and usage of functions."
      ],
      "metadata": {
        "id": "fuQxQXA1OGGF"
      }
    }
  ]
}